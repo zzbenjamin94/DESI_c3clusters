{
 "cells": [
  {
   "cell_type": "code",
   "execution_count": null,
   "id": "9ffbc9e7-b65e-4925-b2d9-43e623fc8a3f",
   "metadata": {},
   "outputs": [],
   "source": [
    "## Use the setup.py file to output directories. \n",
    "import sys\n",
    "sys.path.append('/global/homes/z/zzhang13/DESI')\n",
    "\n",
    "from setup import *\n",
    "toolsdir = tools_dir()\n",
    "repodir = repo_dir()\n",
    "datadir = data_dir()\n",
    "plotdir = plots_dir()\n",
    "bpmapdir = bpmap_dir()\n",
    "\n",
    "sys.path.append(toolsdir)\n",
    "sys.path.append(repodir)"
   ]
  },
  {
   "cell_type": "code",
   "execution_count": null,
   "id": "16128acd-91d6-4029-8f50-30032ea38a91",
   "metadata": {},
   "outputs": [],
   "source": []
  }
 ],
 "metadata": {
  "kernelspec": {
   "display_name": "myEnv_v39",
   "language": "python",
   "name": "myenv_v39"
  },
  "language_info": {
   "name": ""
  }
 },
 "nbformat": 4,
 "nbformat_minor": 5
}
