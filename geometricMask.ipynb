{
 "cells": [
  {
   "cell_type": "code",
   "execution_count": 37,
   "id": "ed72307f-f455-49fe-a452-1b515d6681f9",
   "metadata": {},
   "outputs": [],
   "source": [
    "from scipy.stats import kde\n",
    "import h5py\n",
    "import astropy.io.fits as fits\n",
    "import csv\n",
    "import pandas as pd\n",
    "import numpy as np\n",
    "import tables\n",
    "import pickle\n",
    "import os\n",
    "from astropy.table import Table\n",
    "from astropy.coordinates import SkyCoord\n",
    "from tqdm import tqdm\n",
    "from astropy.io import ascii\n",
    "import os\n",
    "import pandas as pd\n",
    "import matplotlib.pyplot as plt\n",
    "import seaborn as sns\n",
    "import incredible as cr\n",
    "from scipy.special import erf\n",
    "from scipy import stats\n",
    "import scipy.optimize as opt\n",
    "from scipy import stats\n",
    "import scipy.optimize as opt\n",
    "import emcee\n",
    "import tqdm\n",
    "import pickle\n",
    "from astropy import table\n",
    "from astropy.table import Table, unique, join"
   ]
  },
  {
   "cell_type": "code",
   "execution_count": 10,
   "id": "475782e2-978c-40b6-b7dc-72442b17d35f",
   "metadata": {},
   "outputs": [],
   "source": [
    "import warnings\n",
    "warnings.filterwarnings(\"ignore\")"
   ]
  },
  {
   "cell_type": "markdown",
   "id": "296fc209-4a0b-4ee3-820a-4c351e4bbe67",
   "metadata": {},
   "source": [
    "## Importfing modules and functions"
   ]
  },
  {
   "cell_type": "code",
   "execution_count": 14,
   "id": "cbf11e06-1104-4768-87e0-aaefd2d9e4ce",
   "metadata": {},
   "outputs": [],
   "source": [
    "## Getting geometric fraction. Based on Zhiwei's code. \n",
    "\n",
    "import astropy.units as u\n",
    "from astropy import table\n",
    "from astropy.table import Table, vstack, unique\n",
    "import numpy as np\n",
    "from astropy.coordinates import SkyCoord\n",
    "import astropy.cosmology.units as cu\n",
    "from astropy.cosmology import Planck18, FlatLambdaCDM\n",
    "from scipy.spatial import KDTree\n",
    "from scipy.stats import kde\n",
    "import h5py\n",
    "import astropy.io.fits as fits\n",
    "import csv\n",
    "import pandas as pd\n",
    "import tables\n",
    "import pickle\n",
    "from astropy.table import Table\n",
    "from astropy.coordinates import SkyCoord\n",
    "from tqdm import tqdm\n",
    "from astropy.io import ascii\n",
    "import os\n",
    "import pandas as pd\n",
    "import matplotlib.pyplot as plt\n",
    "import seaborn as sns\n",
    "import incredible as cr\n",
    "from scipy.special import erf\n",
    "from scipy import stats\n",
    "import scipy.optimize as opt\n",
    "from scipy import stats\n",
    "import emcee\n",
    "import tqdm"
   ]
  },
  {
   "cell_type": "code",
   "execution_count": 15,
   "id": "a107b769-2642-4a24-85f4-3c590d309980",
   "metadata": {},
   "outputs": [],
   "source": [
    "def spherical_to_cartesian(ra, dec):\n",
    "    \"\"\"\n",
    "    Calculate cartesian coordinates on a unit sphere given two angular coordinates.\n",
    "    parameters\n",
    "\n",
    "    Parameters\n",
    "    -----------\n",
    "    ra : array\n",
    "        Angular coordinate in degrees\n",
    "\n",
    "    dec : array\n",
    "        Angular coordinate in degrees\n",
    "\n",
    "    Returns\n",
    "    --------\n",
    "    x,y,z : sequence of arrays\n",
    "        Cartesian coordinates.\n",
    "\n",
    "    Examples\n",
    "    ---------\n",
    "    >>> ra, dec = 0.1, 1.5\n",
    "    >>> x, y, z = spherical_to_cartesian(ra, dec)\n",
    "\n",
    "    \"\"\"\n",
    "\n",
    "    rar = np.radians(ra)\n",
    "    decr = np.radians(dec)\n",
    "\n",
    "    x = np.cos(rar) * np.cos(decr)\n",
    "    y = np.sin(rar) * np.cos(decr)\n",
    "    z = np.sin(decr)\n",
    "\n",
    "    return x, y, z"
   ]
  },
  {
   "cell_type": "markdown",
   "id": "2d4976cb-b4df-4227-ad94-66ba42eeb543",
   "metadata": {},
   "source": [
    "## BGS Catalog"
   ]
  },
  {
   "cell_type": "code",
   "execution_count": 61,
   "id": "d7d27fdb-95bf-45b6-b96d-8d32671d7ce6",
   "metadata": {},
   "outputs": [],
   "source": [
    "with open('bgs_clus_RM_gal_matched.pickle', 'rb') as handle:\n",
    "    bgs_matched = pickle.load(handle)"
   ]
  },
  {
   "cell_type": "code",
   "execution_count": 64,
   "id": "152a0957-3f98-4e0c-a545-9f7cb30426ab",
   "metadata": {},
   "outputs": [],
   "source": [
    "bgs_matched.remove_column('geoFrac')"
   ]
  },
  {
   "cell_type": "markdown",
   "id": "5a2bf841-161a-46e7-bd27-10e73ea1af06",
   "metadata": {},
   "source": [
    "## RM Catalog"
   ]
  },
  {
   "cell_type": "code",
   "execution_count": 49,
   "id": "0d8db788-2a64-47cf-bc60-584a7994894d",
   "metadata": {},
   "outputs": [],
   "source": [
    "###File directory\n",
    "desiDir = '/global/cfs/cdirs/desi/survey/catalogs/dr1/LSS/iron/LSScats/v1.5pip/'\n",
    "with open('bgs_clus_RM_gal_matched.pickle', 'rb') as handle:\n",
    "    bgs_matched = pickle.load(handle)\n",
    "rm_clus = unique(bgs_matched, keys='ID')\n",
    "\n",
    "## Import the halo catalog\n",
    "aper = 1.5 # units: Mpc/h\n",
    "randDensity = 2500 #random points per sq. deg\n",
    "h = Planck18.H(0).value\n",
    "rad2deg= 57.2958\n",
    "arcsec2deg = 1./3600.\n",
    "\n",
    "##Should there be a Hubble scaling??\n",
    "rm_clus['angRad'] = aper*(Planck18.arcsec_per_kpc_comoving(rm_clus['Z_SPEC_x']).value*1000)*arcsec2deg\n",
    "#rm_clus['D_comoving'] = Planck18.comoving_distance(rm_clus_matched['Z_SPEC_x']) #Should multiple by hubble?\n",
    "rm_clus['pos'] = np.array(spherical_to_cartesian(rm_clus['RA_x'], rm_clus['DEC_x'])).T\n",
    "#rm_clus[f'{aper}Mpc_arc'] = aper/rm_clus['D_comoving']\n",
    "rm_clus['sq_deg'] = np.pi*rm_clus['angRad']**2\n",
    "rm_clus[f'Nr_{aper}Mpc_expected'] = rm_clus['sq_deg']*randDensity\n",
    "rm_clus['geoFrac'] = 0.\n"
   ]
  },
  {
   "cell_type": "markdown",
   "id": "3531bcc0-2d11-422d-a62b-d5837b93fd31",
   "metadata": {},
   "source": [
    "## Random geometric fraction pipeline"
   ]
  },
  {
   "cell_type": "code",
   "execution_count": 51,
   "id": "f4aed5e5-604b-4264-b123-ac8b37822c94",
   "metadata": {},
   "outputs": [
    {
     "name": "stdout",
     "output_type": "stream",
     "text": [
      "BGS_ANY_0_full_HPmapcut.ran.fits\n",
      "BGS_ANY_1_full_HPmapcut.ran.fits\n",
      "BGS_ANY_2_full_HPmapcut.ran.fits\n",
      "BGS_ANY_3_full_HPmapcut.ran.fits\n",
      "BGS_ANY_4_full_HPmapcut.ran.fits\n",
      "BGS_ANY_5_full_HPmapcut.ran.fits\n",
      "BGS_ANY_6_full_HPmapcut.ran.fits\n",
      "BGS_ANY_7_full_HPmapcut.ran.fits\n",
      "BGS_ANY_8_full_HPmapcut.ran.fits\n",
      "BGS_ANY_9_full_HPmapcut.ran.fits\n",
      "BGS_ANY_10_full_HPmapcut.ran.fits\n",
      "BGS_ANY_11_full_HPmapcut.ran.fits\n",
      "BGS_ANY_12_full_HPmapcut.ran.fits\n",
      "BGS_ANY_13_full_HPmapcut.ran.fits\n",
      "BGS_ANY_14_full_HPmapcut.ran.fits\n",
      "BGS_ANY_15_full_HPmapcut.ran.fits\n",
      "BGS_ANY_16_full_HPmapcut.ran.fits\n",
      "BGS_ANY_17_full_HPmapcut.ran.fits\n"
     ]
    }
   ],
   "source": [
    "numRand = 18\n",
    "for i in range(numRand):\n",
    "    randomCat = \"BGS_ANY_{}_full_HPmapcut.ran.fits\".format(i)\n",
    "    print(randomCat)\n",
    "    ran_data = Table.read(desiDir + randomCat)\n",
    "    ran_data['pos'] = np.array(spherical_to_cartesian(ran_data['RA'], ran_data['DEC'])).T\n",
    "\n",
    "    # Constructing KDTree for pair counting\n",
    "    rtree = KDTree(ran_data['pos'])\n",
    "\n",
    "    # Number of random points\n",
    "    rm_clus[f\"Nr_{aper}Mpc\"] = np.asarray(rtree.query_ball_point(rm_clus['pos'].data, \\\n",
    "                                            rm_clus['angRad']/rad2deg, workers=100, return_length=True), dtype=float)\n",
    "    rm_clus['geoFrac'] += rm_clus[f\"Nr_{aper}Mpc\"]/rm_clus[f'Nr_{aper}Mpc_expected']\n",
    "\n",
    "rm_clus['geoFrac'] /= numRand"
   ]
  },
  {
   "cell_type": "code",
   "execution_count": 52,
   "id": "a5adbb75-d622-4341-81ad-00102a031eb2",
   "metadata": {},
   "outputs": [],
   "source": [
    "numRand = 1\n",
    "randomCat = \"BGS_ANY_{}_full_HPmapcut.ran.fits\".format(i)\n",
    "\n",
    "ran_data = Table.read(desiDir + randomCat)\n",
    "ran_data['pos'] = np.array(spherical_to_cartesian(ran_data['RA'], ran_data['DEC'])).T\n",
    "\n",
    "# Constructing KDTree for pair counting\n",
    "rtree = KDTree(ran_data['pos'])\n",
    "\n",
    "# Number of random points\n",
    "num_cl_rand = np.asarray(rtree.query_ball_point(rm_clus['pos'].data, \\\n",
    "                                            rm_clus['angRad']/rad2deg, workers=100, return_length=True), dtype=float)\n",
    "test_geoFrac = num_cl_rand/rm_clus[f'Nr_{aper}Mpc_expected']"
   ]
  },
  {
   "cell_type": "markdown",
   "id": "1f39ac76-f5cb-4cd0-a16c-58cf26daaa0b",
   "metadata": {},
   "source": [
    "## Plotting"
   ]
  },
  {
   "cell_type": "code",
   "execution_count": 53,
   "id": "1f084dcb-c62a-4999-ad0c-a336b193cfa6",
   "metadata": {},
   "outputs": [
    {
     "data": {
      "image/png": "[encoded data removed]",
      "text/plain": [
       "<Figure size 640x480 with 1 Axes>"
      ]
     },
     "metadata": {},
     "output_type": "display_data"
    }
   ],
   "source": [
    "plt.hist(rm_clus['geoFrac'], bins=30, histtype='step', label='18 realizations', density=True)\n",
    "plt.hist(test_geoFrac, bins=30, histtype='step', label='1 realization', density=True)\n",
    "plt.axvline(1, color='black')\n",
    "plt.xlabel('geometric fraction')\n",
    "plt.legend()\n",
    "plt.show()"
   ]
  },
  {
   "cell_type": "markdown",
   "id": "dfbc069f-4028-4376-b5c7-4d3b0a33a06f",
   "metadata": {},
   "source": [
    "## Match the RM geometric fraction to the BGS_Matched catalog"
   ]
  },
  {
   "cell_type": "code",
   "execution_count": 66,
   "id": "cf3e4eb5-2ada-4ff4-bde9-993cb02d14ff",
   "metadata": {},
   "outputs": [],
   "source": [
    "bgs_matched = join(bgs_matched, rm_clus[['ID', 'geoFrac']], keys='ID', join_type='inner')"
   ]
  },
  {
   "cell_type": "code",
   "execution_count": 67,
   "id": "89954fb9-b1fd-4a77-86f6-2fd54e191e74",
   "metadata": {},
   "outputs": [
    {
     "data": {
      "text/html": [
       "<div><i>Table length=5</i>\n",
       "<table id=\"table140400375596128\" class=\"table-striped table-bordered table-condensed\">\n",
       "<thead><tr><th>TARGETID</th><th>RA_BGS</th><th>DEC_BGS</th><th>Z_BGS</th><th>WEIGHT</th><th>ID</th><th>LAMBDA</th><th>Z_LAMBDA</th><th>R_LAMBDA</th><th>Z_SPEC_x</th><th>RA_x</th><th>DEC_x</th><th>RM_gal_flag</th><th>Z_SPEC_y</th><th>RA_y</th><th>DEC_y</th><th>R</th><th>P</th><th>geoFrac</th></tr></thead>\n",
       "<thead><tr><th>int64</th><th>float64</th><th>float64</th><th>float64</th><th>float64</th><th>int32</th><th>float32</th><th>float32</th><th>float64</th><th>float32</th><th>float64</th><th>float64</th><th>bool</th><th>float64</th><th>float64</th><th>float64</th><th>float64</th><th>float64</th><th>float64</th></tr></thead>\n",
       "<tr><td>39628423202606833</td><td>239.44814235214548</td><td>27.163580786831865</td><td>0.3395760549009007</td><td>2.000025749206543</td><td>1</td><td>169.83784</td><td>0.09483067</td><td>1.1117493745677802</td><td>0.09080672</td><td>239.5833290688836</td><td>27.233412917827273</td><td>False</td><td>-1.0</td><td>-1.0</td><td>-1.0</td><td>-1.0</td><td>-1.0</td><td>0.7660373289661593</td></tr>\n",
       "<tr><td>39628423206801038</td><td>239.69617434823417</td><td>27.28721706332761</td><td>0.21445889411512098</td><td>3.0000046491622925</td><td>1</td><td>169.83784</td><td>0.09483067</td><td>1.1117493745677802</td><td>0.09080672</td><td>239.5833290688836</td><td>27.233412917827273</td><td>False</td><td>-1.0</td><td>-1.0</td><td>-1.0</td><td>-1.0</td><td>-1.0</td><td>0.7660373289661593</td></tr>\n",
       "<tr><td>39628423206800905</td><td>239.68942347094608</td><td>27.317718829311953</td><td>0.09940091069271458</td><td>6.0</td><td>1</td><td>169.83784</td><td>0.09483067</td><td>1.1117493745677802</td><td>0.09080672</td><td>239.5833290688836</td><td>27.233412917827273</td><td>False</td><td>-1.0</td><td>-1.0</td><td>-1.0</td><td>-1.0</td><td>-1.0</td><td>0.7660373289661593</td></tr>\n",
       "<tr><td>39628423206800895</td><td>239.68918050987529</td><td>27.15067062677909</td><td>0.08052782733638857</td><td>1.000214695930481</td><td>1</td><td>169.83784</td><td>0.09483067</td><td>1.1117493745677802</td><td>0.09080672</td><td>239.5833290688836</td><td>27.233412917827273</td><td>False</td><td>-1.0</td><td>-1.0</td><td>-1.0</td><td>-1.0</td><td>-1.0</td><td>0.7660373289661593</td></tr>\n",
       "<tr><td>39628423206800843</td><td>239.68678379785</td><td>27.25131632288843</td><td>0.08172227812353887</td><td>4.0</td><td>1</td><td>169.83784</td><td>0.09483067</td><td>1.1117493745677802</td><td>0.09080672</td><td>239.5833290688836</td><td>27.233412917827273</td><td>False</td><td>-1.0</td><td>-1.0</td><td>-1.0</td><td>-1.0</td><td>-1.0</td><td>0.7660373289661593</td></tr>\n",
       "</table></div>"
      ],
      "text/plain": [
       "<Table length=5>\n",
       "     TARGETID           RA_BGS       ...    P         geoFrac      \n",
       "      int64            float64       ... float64      float64      \n",
       "----------------- ------------------ ... ------- ------------------\n",
       "39628423202606833 239.44814235214548 ...    -1.0 0.7660373289661593\n",
       "39628423206801038 239.69617434823417 ...    -1.0 0.7660373289661593\n",
       "39628423206800905 239.68942347094608 ...    -1.0 0.7660373289661593\n",
       "39628423206800895 239.68918050987529 ...    -1.0 0.7660373289661593\n",
       "39628423206800843    239.68678379785 ...    -1.0 0.7660373289661593"
      ]
     },
     "execution_count": 67,
     "metadata": {},
     "output_type": "execute_result"
    }
   ],
   "source": [
    "bgs_matched[0:5]"
   ]
  },
  {
   "cell_type": "markdown",
   "id": "040d282e-114c-42a0-b3ab-3a226149ab8f",
   "metadata": {},
   "source": [
    "## Saving the file"
   ]
  },
  {
   "cell_type": "code",
   "execution_count": 68,
   "id": "568d82fa-fb4c-4aab-98f8-77a73442127c",
   "metadata": {},
   "outputs": [],
   "source": [
    "with open('bgs_clus_RM_gal_matched.pickle', 'wb') as handle:\n",
    "    pickle.dump(bgs_matched, handle, protocol=pickle.HIGHEST_PROTOCOL)"
   ]
  },
  {
   "cell_type": "markdown",
   "id": "f30815d3-33b5-4963-bc5b-91a27187df60",
   "metadata": {},
   "source": [
    "# Old Stuff"
   ]
  },
  {
   "cell_type": "markdown",
   "id": "1918ca21-9e7b-408a-b89d-19d11b2fda15",
   "metadata": {
    "jp-MarkdownHeadingCollapsed": true
   },
   "source": [
    "## Inputing random mask\n",
    "\n",
    "Choose 1 of the 18 realizations. They differ in random number counts by $<1\\%$"
   ]
  },
  {
   "cell_type": "code",
   "execution_count": 11,
   "id": "7a995746-80da-4e00-a48c-918b30a032c2",
   "metadata": {},
   "outputs": [],
   "source": [
    "desiDir = '/global/cfs/cdirs/desi/survey/catalogs/dr1/LSS/iron/LSScats/v1.5pip/'\n",
    "randomCat = 'BGS_ANY_10_full.ran.fits'"
   ]
  },
  {
   "cell_type": "code",
   "execution_count": 12,
   "id": "66e73086-3d78-4986-9c73-9e7d7373a69d",
   "metadata": {},
   "outputs": [],
   "source": [
    "ran_data = Table.read(desiDir + randomCat)"
   ]
  },
  {
   "cell_type": "code",
   "execution_count": 13,
   "id": "43125cd4-86f0-4981-a020-c14ebfe3f97c",
   "metadata": {},
   "outputs": [
    {
     "data": {
      "text/plain": [
       "<TableColumns names=('LOCATION','FIBER','TARGETID','RA','DEC','TILEID','PRIORITY','TSNR2_ELG','TSNR2_LYA','TSNR2_BGS','TSNR2_QSO','TSNR2_LRG','TILELOCID','ZPOSSLOC','GOODHARDLOC','GOODPRI','NTILE','TILES','TILELOCIDS','NOBS_G','NOBS_R','NOBS_Z','MASKBITS','PHOTSYS','HALPHA','HALPHA_ERROR','CALIB_G','CALIB_R','CALIB_Z','EBV_CHIANG_SFDcorr','EBV_MPF_Mean_FW15','EBV_MPF_Mean_ZptCorr_FW15','EBV_MPF_Var_FW15','EBV_MPF_VarCorr_FW15','EBV_MPF_Mean_FW6P1','EBV_MPF_Mean_ZptCorr_FW6P1','EBV_MPF_Var_FW6P1','EBV_MPF_VarCorr_FW6P1','EBV_SGF14','BETA_ML','BETA_MEAN','BETA_RMS','HI','KAPPA_PLANCK','STARDENS','PSFDEPTH_G','PSFDEPTH_R','PSFDEPTH_Z','GALDEPTH_G','GALDEPTH_R','GALDEPTH_Z','PSFDEPTH_W1','PSFDEPTH_W2','PSFSIZE_G','PSFSIZE_R','PSFSIZE_Z','EBV','FRAC_TLOBS_TILES')>"
      ]
     },
     "execution_count": 13,
     "metadata": {},
     "output_type": "execute_result"
    }
   ],
   "source": [
    "ran_data.columns"
   ]
  },
  {
   "cell_type": "code",
   "execution_count": 55,
   "id": "e09f28dc-1a20-44cd-990d-ef7569af8c82",
   "metadata": {},
   "outputs": [
    {
     "data": {
      "image/png": "[encoded data removed]",
      "text/plain": [
       "<Figure size 640x480 with 1 Axes>"
      ]
     },
     "metadata": {},
     "output_type": "display_data"
    }
   ],
   "source": []
  },
  {
   "cell_type": "code",
   "execution_count": 17,
   "id": "f2e1ac3b-4e4e-4851-b287-94baa68c8299",
   "metadata": {},
   "outputs": [],
   "source": [
    "rm_clus['geoFrac'] += rm_clus[f'Nr_{aper}Mpc_expected']/rm_clus[f'Nr_{aper}Mpc_expected']"
   ]
  },
  {
   "cell_type": "code",
   "execution_count": 18,
   "id": "d4c55259-f52c-4f11-9eaf-412c8698ee9c",
   "metadata": {},
   "outputs": [],
   "source": [
    "h = Planck18.H(0).value"
   ]
  },
  {
   "cell_type": "markdown",
   "id": "c214de5d-3be1-436a-bafe-ea83a438359a",
   "metadata": {},
   "source": [
    "### Input the matched BGS_RM catalog"
   ]
  },
  {
   "cell_type": "code",
   "execution_count": 8,
   "id": "7ae25eca-b776-46d2-a924-d2c6c49d0061",
   "metadata": {},
   "outputs": [],
   "source": [
    "with open('bgs_clus_RM_gal_matched.pickle', 'rb') as handle:\n",
    "    bgs_matched = pickle.load(handle)"
   ]
  },
  {
   "cell_type": "code",
   "execution_count": 9,
   "id": "76691f67-6a9c-428e-bfc5-6acf6dd84783",
   "metadata": {},
   "outputs": [],
   "source": [
    "rm_clus = unique(bgs_matched, keys='ID')"
   ]
  },
  {
   "cell_type": "code",
   "execution_count": null,
   "id": "a042258e-a3e4-4a54-9319-d383b1f42d16",
   "metadata": {},
   "outputs": [],
   "source": [
    "## Zhiwei's code\n",
    "\n",
    "import astropy.units as asu\n",
    "from astropy.table import Table, vstack\n",
    "import numpy as np\n",
    "from astropy.cosmology import FlatLambdaCDM\n",
    "from scipy.spatial import KDTree\n",
    "\n",
    "def spherical_to_cartesian(ra, dec):\n",
    "    \"\"\"\n",
    "    Calculate cartesian coordinates on a unit sphere given two angular coordinates.\n",
    "    parameters\n",
    "\n",
    "    Parameters\n",
    "    -----------\n",
    "    ra : array\n",
    "        Angular coordinate in degrees\n",
    "\n",
    "    dec : array\n",
    "        Angular coordinate in degrees\n",
    "\n",
    "    Returns\n",
    "    --------\n",
    "    x,y,z : sequence of arrays\n",
    "        Cartesian coordinates.\n",
    "\n",
    "    Examples\n",
    "    ---------\n",
    "    >>> ra, dec = 0.1, 1.5\n",
    "    >>> x, y, z = spherical_to_cartesian(ra, dec)\n",
    "\n",
    "    \"\"\"\n",
    "\n",
    "    rar = np.radians(ra)\n",
    "    decr = np.radians(dec)\n",
    "\n",
    "    x = np.cos(rar) * np.cos(decr)\n",
    "    y = np.sin(rar) * np.cos(decr)\n",
    "    z = np.sin(decr)\n",
    "\n",
    "    return x, y, z\n",
    "\n",
    "cosmo = FlatLambdaCDM(Om0=.3, H0=100)\n",
    "\n",
    "# Stack 5 randoms\n",
    "rand = []\n",
    "for i in range(5):\n",
    "    tr = Table.read(f\"/home/zwshao/Data/DESI/Y1/BGS/SMHM_cat/Y1LSScat_default/BGS_BRIGHT_{i}_clustering.ran.fits\")\n",
    "    rand.append(tr)\n",
    "rand = vstack(rand)\n",
    "rand['pos'] = np.array(spherical_to_cartesian(rand['RA'], rand['DEC'])).T\n",
    "\n",
    "# Constructing KDTree for pair counting\n",
    "rtree = KDTree(rand['pos'])\n",
    "\n",
    "# redshift limits of the groups to use\n",
    "grpzmin, grpzmax = .1, .4\n",
    "\n",
    "# Load group data\n",
    "Mhmin = 13.0\n",
    "grp = Table.read(f\"/home/zwshao/Data/DESI/Y3/YangGroup/v2/DESIDR9Y3_NSGC_BCG_logMh>12.5.hdf5\")\n",
    "grp.rename_columns(['ragroup', 'decgroup', 'logMh'], ['ra_lwc', 'dec_lwc', 'Mh_L'])\n",
    "grp['ra_bcg'] = grp['ra']\n",
    "grp['dec_bcg'] = grp['dec']\n",
    "grp = grp[(grp['z'] >= grpzmin) & (grp['z'] <= grpzmax) & (grp['Mh_L'] > Mhmin)]\n",
    "grp['pos'] = np.array(spherical_to_cartesian(grp['ra'], grp['dec'])).T\n",
    "\n",
    "# Define aperture for geoFrac calculation\n",
    "aper = 1.5 # units: Mpc/h\n",
    "\n",
    "grp['D_comoving'] = cosmo.comoving_distance(grp['z']).value*cosmo.h\n",
    "\n",
    "# Convert physical aperture to angular diameters\n",
    "grp[f'{aper}Mpc_arc'] = aper/grp['D_comoving']\n",
    "grp[f'{aper}Mpc_theta'] = 2*np.arcsin(aper/grp['D_comoving']/2.) #Aper is already radius why divide by 2.\n",
    "grp[f'{aper}Mpc_theta_deg'] = grp[f'{aper}Mpc_theta'] * asu.rad.to(asu.deg)\n",
    "\n",
    "# Number of random points\n",
    "grp[f\"Nr_{aper}Mpc\"] = rtree.query_ball_point(grp['pos'].data, grp[f\"{aper}Mpc_arc\"].data, workers=100, return_length=True)\n",
    "\n",
    "# Number of expected random points\n",
    "## This is wrong!! Should be (1-cos), there is no square. \n",
    "grp[f'Nr_{aper}Mpc_expected'] = 2*np.pi * (1-np.cos(grp[f'{aper}Mpc_theta'])) * asu.rad.to(asu.deg)**2 * 2500 * 5\n",
    "\n",
    "grp['geoFrac'] = grp[f\"Nr_{aper}Mpc\"]/grp[f'Nr_{aper}Mpc_expected']"
   ]
  },
  {
   "cell_type": "markdown",
   "id": "dbadcea1-2f70-4f31-85b2-44070e63f60d",
   "metadata": {},
   "source": [
    "## Match the BGS to the random"
   ]
  },
  {
   "cell_type": "code",
   "execution_count": 10,
   "id": "4fbb0ae9-a244-4ef1-a71c-e0fb842e752a",
   "metadata": {},
   "outputs": [],
   "source": [
    "import astropy.units as u\n",
    "from astropy.coordinates import SkyCoord\n",
    "import astropy.cosmology.units as cu\n",
    "from astropy.cosmology import Planck18"
   ]
  },
  {
   "cell_type": "markdown",
   "id": "d0b783e1-1a0d-4f9b-bd1c-31c0542f23bb",
   "metadata": {},
   "source": [
    "### Match by 2D distance"
   ]
  },
  {
   "cell_type": "code",
   "execution_count": 11,
   "id": "b1009524-52ac-48f4-8342-8af282aa5792",
   "metadata": {},
   "outputs": [],
   "source": [
    "rm_c = SkyCoord(ra=rm_clus['RA_x']*u.degree, dec=rm_clus['DEC_x']*u.degree)\n",
    "ran_c = SkyCoord(ra=ran_data['RA'].value*u.degree, dec=ran_data['DEC'].value*u.degree)"
   ]
  },
  {
   "cell_type": "code",
   "execution_count": 12,
   "id": "d5792132-305d-40e9-af03-91197ac7ba8c",
   "metadata": {},
   "outputs": [
    {
     "data": {
      "text/plain": [
       "True"
      ]
     },
     "execution_count": 12,
     "metadata": {},
     "output_type": "execute_result"
    }
   ],
   "source": [
    "## Search around each RM\n",
    "max_sep = 15 * u.arcmin\n",
    "idxc, idxcatalog, d2d, d3d = ran_c.search_around_sky(rm_c, max_sep)\n",
    "np.all(d2d < max_sep)"
   ]
  },
  {
   "cell_type": "code",
   "execution_count": 13,
   "id": "5bd95ec4-bc93-49b6-a3ed-434edb647926",
   "metadata": {},
   "outputs": [],
   "source": [
    "rm_clus_matched = rm_clus[idxc]\n",
    "ran_matched = ran_data[idxcatalog]"
   ]
  },
  {
   "cell_type": "code",
   "execution_count": 14,
   "id": "5771677f-5fe1-47ab-b54c-2374c8ebc513",
   "metadata": {},
   "outputs": [
    {
     "name": "stdout",
     "output_type": "stream",
     "text": [
      "Ratio of matched randoms: 0.13728031501794538\n"
     ]
    }
   ],
   "source": [
    "print(\"Ratio of matched randoms:\", len(ran_matched)/len(ran_data))"
   ]
  },
  {
   "cell_type": "code",
   "execution_count": 15,
   "id": "3a15eb02-6198-422a-b4d4-0f3184ab2684",
   "metadata": {},
   "outputs": [],
   "source": [
    "def haversine(lon1, lat1, lon2, lat2, r=1):\n",
    "    \"\"\"\n",
    "    Calculate the great circle distance in kilometers between two points (specified in decimal degrees)\n",
    "    \"\"\"\n",
    "    # convert decimal degrees to radians \n",
    "    lon1 = np.radians(lon1)\n",
    "    lat1 = np.radians(lat1)\n",
    "    lon2 = np.radians(lon2)\n",
    "    lat2 = np.radians(lat2)\n",
    "\n",
    "    # haversine formula \n",
    "    dlon = lon2 - lon1 \n",
    "    dlat = lat2 - lat1 \n",
    "    a = np.sin(dlat/2)**2 + np.cos(lat1) * np.cos(lat2) * np.sin(dlon/2)**2\n",
    "    c = 2 * np.arcsin(np.sqrt(a)) \n",
    "    #r = 6371 # Radius of earth in kilometers. Use 3956 for miles. Determines return value units.\n",
    "    return c*r"
   ]
  },
  {
   "cell_type": "code",
   "execution_count": 16,
   "id": "78dfd31d-b36e-454f-a380-fe9e9674e8d4",
   "metadata": {},
   "outputs": [],
   "source": [
    "r = haversine(ran_matched['RA'], ran_matched['DEC'], rm_clus_matched['RA_x'], rm_clus_matched['DEC_x'])"
   ]
  },
  {
   "cell_type": "code",
   "execution_count": 17,
   "id": "da8d2db4-05ac-4879-a6d7-957d74137ad7",
   "metadata": {},
   "outputs": [
    {
     "data": {
      "image/png": "[encoded data removed]",
      "text/plain": [
       "<Figure size 640x480 with 1 Axes>"
      ]
     },
     "metadata": {},
     "output_type": "display_data"
    },
    {
     "data": {
      "text/plain": [
       "0.2500000823964459"
      ]
     },
     "execution_count": 17,
     "metadata": {},
     "output_type": "execute_result"
    }
   ],
   "source": [
    "plt.suptitle('Distance in degree')\n",
    "plt.hist(r*57.2958)\n",
    "plt.show()\n",
    "np.max(r*57.2958)"
   ]
  },
  {
   "cell_type": "markdown",
   "id": "bdccf003-a6d7-4906-9cc6-2299a0414bcb",
   "metadata": {},
   "source": [
    "### Then by 3D Distance"
   ]
  },
  {
   "cell_type": "code",
   "execution_count": 18,
   "id": "b01497ee-c9a9-48b0-bc88-ed19e22f8052",
   "metadata": {},
   "outputs": [],
   "source": [
    "##Redshift to distance for random to match the cluster\n",
    "rm_z = rm_clus_matched['Z_SPEC_x'] * cu.redshift\n",
    "rand_d = rm_z.to(u.Mpc, cu.redshift_distance(Planck18, kind=\"comoving\"))\n",
    "\n",
    "##Redshift to distance for the cluster\n",
    "rm_z = rm_clus['Z_SPEC_x'] * cu.redshift\n",
    "rm_d = rm_z.to(u.Mpc, cu.redshift_distance(Planck18, kind=\"comoving\"))"
   ]
  },
  {
   "cell_type": "code",
   "execution_count": 19,
   "id": "50e09417-86dd-4892-9d2e-fe4ca714fbf8",
   "metadata": {},
   "outputs": [],
   "source": [
    "#Match the galaxy distances on the sky to the matched RM distance\n",
    "\n",
    "#I think there's a bug in this code. \n",
    "rm_c = SkyCoord(ra=rm_clus['RA_x']*u.degree, dec=rm_clus['DEC_x']*u.degree, distance = rm_d)\n",
    "ran_c = SkyCoord(ra=ran_matched['RA'].value*u.degree, dec=ran_matched['DEC'].value*u.degree, distance = rand_d)"
   ]
  },
  {
   "cell_type": "code",
   "execution_count": 20,
   "id": "6af11df4-f661-446c-8cf8-ccd10d395889",
   "metadata": {},
   "outputs": [],
   "source": [
    "#h = Planck18.H(0).value/100"
   ]
  },
  {
   "cell_type": "code",
   "execution_count": 21,
   "id": "66093b0f-7c2b-4249-864c-9cd5b9e169dd",
   "metadata": {},
   "outputs": [
    {
     "data": {
      "text/plain": [
       "True"
      ]
     },
     "execution_count": 21,
     "metadata": {},
     "output_type": "execute_result"
    }
   ],
   "source": [
    "## Search around each RM\n",
    "max_sep = 1.5 * u.Mpc \n",
    "idxc, idxcatalog, d2d, d3d = ran_c.search_around_3d(rm_c, max_sep)\n",
    "np.all(d3d < max_sep)"
   ]
  },
  {
   "cell_type": "code",
   "execution_count": 22,
   "id": "f0483b43-a3c9-40b5-9d44-81e677529b2d",
   "metadata": {},
   "outputs": [
    {
     "name": "stdout",
     "output_type": "stream",
     "text": [
      "Ratio =  0.1183339521901128\n"
     ]
    }
   ],
   "source": [
    "print(\"Ratio = \", len(idxcatalog)/len(ran_matched))"
   ]
  },
  {
   "cell_type": "code",
   "execution_count": 23,
   "id": "7c5bab94-4d0a-4a54-b028-6e07d1cf407c",
   "metadata": {},
   "outputs": [
    {
     "name": "stdout",
     "output_type": "stream",
     "text": [
      "Match rate:  1.0\n"
     ]
    }
   ],
   "source": [
    "rm_clus_matched = rm_clus[idxc]\n",
    "ran_matched = ran_matched[idxcatalog]\n",
    "print(\"Match rate: \", len(table.unique(rm_clus_matched, keys='ID'))/len(rm_clus)) ##There is a bug here. Why is match rate > 1??"
   ]
  },
  {
   "cell_type": "code",
   "execution_count": 24,
   "id": "51a20cd2-3123-4596-97ee-4e2891aaeec8",
   "metadata": {},
   "outputs": [],
   "source": [
    "rm_z = rm_clus_matched['Z_SPEC_x'] * cu.redshift\n",
    "rand_d = rm_z.to(u.Mpc, cu.redshift_distance(Planck18, kind=\"comoving\"))"
   ]
  },
  {
   "cell_type": "code",
   "execution_count": 25,
   "id": "e3865eb9-a360-4afd-a63f-0f79133f7825",
   "metadata": {},
   "outputs": [],
   "source": [
    "r = haversine(ran_matched['RA'], ran_matched['DEC'], rm_clus_matched['RA_x'], \\\n",
    "              rm_clus_matched['DEC_x'], r=rand_d)"
   ]
  },
  {
   "cell_type": "code",
   "execution_count": 26,
   "id": "4b2c19ad-da8a-4f62-ae7b-ae89012b9fbe",
   "metadata": {},
   "outputs": [
    {
     "data": {
      "image/png": "[encoded data removed]",
      "text/plain": [
       "<Figure size 640x480 with 1 Axes>"
      ]
     },
     "metadata": {},
     "output_type": "display_data"
    }
   ],
   "source": [
    "plt.title('Distance in Mpc/h')\n",
    "plt.hist(r)\n",
    "plt.show()"
   ]
  },
  {
   "cell_type": "code",
   "execution_count": 27,
   "id": "9ccbfcb1-cdff-43d2-938b-458af24d1da8",
   "metadata": {},
   "outputs": [
    {
     "data": {
      "text/latex": [
       "$1.4999955 \\; \\mathrm{Mpc}$"
      ],
      "text/plain": [
       "<Quantity 1.49999549 Mpc>"
      ]
     },
     "execution_count": 27,
     "metadata": {},
     "output_type": "execute_result"
    }
   ],
   "source": [
    "np.max(r)"
   ]
  },
  {
   "cell_type": "markdown",
   "id": "fcfc8591-d63a-47d8-b6a4-fc087f58eed6",
   "metadata": {},
   "source": [
    "## Geometric weighting\n",
    "* For the bgs_matched catalog add a column on geometric weighting.\n",
    "* You still have things leaking outside the radius\n",
    "  "
   ]
  },
  {
   "cell_type": "code",
   "execution_count": 28,
   "id": "4ea6bfd8-5579-4b25-bf9b-740f8b1e29ec",
   "metadata": {},
   "outputs": [],
   "source": [
    "bgs_matched['geoFrac'] = np.float64(-1.0)"
   ]
  },
  {
   "cell_type": "code",
   "execution_count": 29,
   "id": "c2682366-075e-42f4-95ed-d14a76dc9c07",
   "metadata": {},
   "outputs": [],
   "source": [
    "count = rm_clus_matched.group_by('ID')"
   ]
  },
  {
   "cell_type": "code",
   "execution_count": 30,
   "id": "05eefd1e-1dd8-4cd6-b587-9bf04643f07e",
   "metadata": {},
   "outputs": [],
   "source": [
    "arcsec2deg = 1./3600\n",
    "randDensity = 2500.0 #2500 objects per square degree\n",
    "#h = Planck18.H(0).value/100\n",
    "matchRad = 1.5 # Matching radius in Mpc/h in comoving distance\n",
    "\n",
    "for i, group in enumerate(count.groups):\n",
    "    ID = group[0]['ID']\n",
    "    redshift = group[0]['Z_SPEC_x']\n",
    "    angRad = matchRad*(Planck18.arcsec_per_kpc_comoving(redshift).value*1000)*arcsec2deg\n",
    "    #print(\"angRad=\", angRad)\n",
    "    angSize = np.pi*angRad**2 ##For planar geometry for small angles. Otherwise formula for conic section.\n",
    "    #print(\"lenGroup=\", len(group))\n",
    "    randArea = len(group)/randDensity\n",
    "    #print(\"randArea = \", randArea)\n",
    "    geoFrac = randArea/angSize\n",
    "    #print(\"geoFrac=\", geoFrac)     \n",
    "\n",
    "    ##Input into the catalog\n",
    "    filt = np.where(bgs_matched['ID'] == ID)\n",
    "    bgs_matched['geoFrac'][filt] = geoFrac"
   ]
  },
  {
   "cell_type": "code",
   "execution_count": 31,
   "id": "0ce8fdd7-92a1-4d94-8aae-3229bd9ef482",
   "metadata": {},
   "outputs": [
    {
     "data": {
      "image/png": "[encoded data removed]",
      "text/plain": [
       "<Figure size 640x480 with 1 Axes>"
      ]
     },
     "metadata": {},
     "output_type": "display_data"
    }
   ],
   "source": [
    "plt.hist(bgs_matched['geoFrac'], bins=20)\n",
    "plt.xlabel('geoFrac')\n",
    "plt.show()"
   ]
  },
  {
   "cell_type": "markdown",
   "id": "47a9a0a5-4915-4c83-8c65-9b52878267b9",
   "metadata": {},
   "source": [
    "## Testing and debugging\n",
    "\n",
    "Testing whether the random ones fall inside the radius defined by the user. "
   ]
  },
  {
   "cell_type": "code",
   "execution_count": 32,
   "id": "f5033675-e6c0-4c2b-b944-498a37cf10fe",
   "metadata": {},
   "outputs": [
    {
     "name": "stdout",
     "output_type": "stream",
     "text": [
      "Number of clusters  6803\n"
     ]
    }
   ],
   "source": [
    "rm_clus = unique(bgs_matched, keys='ID')\n",
    "print('Number of clusters ', len(rm_clus))"
   ]
  },
  {
   "cell_type": "code",
   "execution_count": 33,
   "id": "5e98c2d0-45db-4840-a599-8fa4f60b8b27",
   "metadata": {},
   "outputs": [
    {
     "name": "stdout",
     "output_type": "stream",
     "text": [
      "Number of galaxies with geoFrac > 1,  27081\n",
      "Number of clusters with geoFrac > 1,  1449\n"
     ]
    }
   ],
   "source": [
    "## Testing for geoFrac greater than 1\n",
    "print('Number of galaxies with geoFrac > 1, ', len(np.where(bgs_matched['geoFrac'] > 1)[0]))\n",
    "print('Number of clusters with geoFrac > 1, ', len(np.where(rm_clus['geoFrac'] > 1)[0]))\n",
    "#print(np.where(bgs_matched['geoFrac'] > 1))\n",
    "#print(np.unique(bgs_matched['ID'][np.where(bgs_matched['geoFrac'] > 1)]))"
   ]
  },
  {
   "cell_type": "code",
   "execution_count": 34,
   "id": "81055e85-1a5c-4709-a655-3f746c8c9737",
   "metadata": {},
   "outputs": [
    {
     "data": {
      "image/png": "[encoded data removed]",
      "text/plain": [
       "<Figure size 640x480 with 1 Axes>"
      ]
     },
     "metadata": {},
     "output_type": "display_data"
    }
   ],
   "source": [
    "plt.hist(bgs_matched['geoFrac'], bins=20, range=(0,1))\n",
    "plt.xlabel('geoFrac')\n",
    "plt.show()"
   ]
  },
  {
   "cell_type": "code",
   "execution_count": 35,
   "id": "709be52b-8909-4858-9c44-3ad85e0df1c1",
   "metadata": {},
   "outputs": [
    {
     "data": {
      "text/plain": [
       "2.176372642550103"
      ]
     },
     "execution_count": 35,
     "metadata": {},
     "output_type": "execute_result"
    }
   ],
   "source": [
    "bgs_matched['geoFrac'][np.argmax(bgs_matched['geoFrac'])]"
   ]
  },
  {
   "cell_type": "code",
   "execution_count": 51,
   "id": "806ea832-2af1-4f8e-a644-0ef6ff82c7bb",
   "metadata": {},
   "outputs": [
    {
     "data": {
      "image/png": "[encoded data removed]",
      "text/plain": [
       "<Figure size 800x600 with 1 Axes>"
      ]
     },
     "metadata": {},
     "output_type": "display_data"
    }
   ],
   "source": [
    "from matplotlib.patches import Circle\n",
    "\n",
    "fig, ax = plt.subplots(figsize=(8, 6))\n",
    "\n",
    "testInd=89\n",
    "test_rand = ran_matched[np.where(idxc == testInd)]\n",
    "\n",
    "center_ra = rm_clus_matched[np.where(idxc==testInd)]['RA_x'][0] * u.deg\n",
    "center_dec = rm_clus_matched[np.where(idxc==testInd)]['DEC_x'][0] * u.deg\n",
    "angDist = matchRad*(Planck18.arcsec_per_kpc_comoving(rm_clus_matched[np.where(idxc==testInd)]['Z_SPEC_x'][0]).value*1000)*arcsec2deg* u.deg\n",
    "\n",
    "\n",
    "center_coord = SkyCoord(center_ra, center_dec, frame='icrs')\n",
    "circle = Circle((center_coord.ra.deg, center_coord.dec.deg), \\\n",
    "                angDist.to(u.deg).value, transform=ax.transData, facecolor='none', edgecolor='red')\n",
    "\n",
    "\n",
    "plt.scatter(test_rand['RA'], test_rand['DEC'])\n",
    "ax.set_xlabel('Right Ascension (degrees)')\n",
    "ax.set_ylabel('Declination (degrees)')\n",
    "ax.set_title('Radius around a point in RA and DEC')\n",
    "ax.set_xlim(center_coord.ra.deg - 2 * angDist.to(u.deg).value, center_coord.ra.deg + 2 * angDist.to(u.deg).value)\n",
    "ax.set_ylim(center_coord.dec.deg - 2 * angDist.to(u.deg).value, center_coord.dec.deg + 2 * angDist.to(u.deg).value)\n",
    "ax.add_patch(circle)\n",
    "ax.scatter(center_coord.ra.deg, center_coord.dec.deg, marker='*', color='blue', s=100, label='Center')\n",
    "ax.legend()\n",
    "plt.show()"
   ]
  },
  {
   "cell_type": "code",
   "execution_count": null,
   "id": "5a420e06-225e-42ba-8a51-45abcc9cd288",
   "metadata": {},
   "outputs": [],
   "source": [
    "## Check sphercial section vs plane geometry. "
   ]
  },
  {
   "cell_type": "code",
   "execution_count": 52,
   "id": "1807aacd-98f5-439c-8af6-a5f55d8edab6",
   "metadata": {},
   "outputs": [],
   "source": [
    "rm_z = rm_clus_matched[np.where(idxc==testInd)]['Z_SPEC_x'][0] * cu.redshift\n",
    "radius = rm_z.to(u.Mpc, cu.redshift_distance(Planck18, kind=\"comoving\")).value\n",
    "r = haversine(center_ra.value, center_dec.value, test_rand['RA'], test_rand['DEC'], r=radius)"
   ]
  },
  {
   "cell_type": "markdown",
   "id": "fda2d021-6a03-472b-a177-f1d6dfbda717",
   "metadata": {
    "jp-MarkdownHeadingCollapsed": true
   },
   "source": [
    "## Save the file"
   ]
  },
  {
   "cell_type": "code",
   "execution_count": 49,
   "id": "6e8b43d1-e60d-4f3e-88e7-f2d5c2871cdc",
   "metadata": {},
   "outputs": [],
   "source": [
    "with open('bgs_clus_RM_gal_matched.pickle', 'wb') as handle:\n",
    "    pickle.dump(bgs_matched, handle, protocol=pickle.HIGHEST_PROTOCOL)"
   ]
  },
  {
   "cell_type": "code",
   "execution_count": null,
   "id": "5d439c39-85ed-4db2-88d2-984441c2651a",
   "metadata": {},
   "outputs": [],
   "source": []
  }
 ],
 "metadata": {
  "kernelspec": {
   "display_name": "myEnv_v39",
   "language": "python",
   "name": "myenv_v39"
  },
  "language_info": {
   "codemirror_mode": {
    "name": "ipython",
    "version": 3
   },
   "file_extension": ".py",
   "mimetype": "text/x-python",
   "name": "python",
   "nbconvert_exporter": "python",
   "pygments_lexer": "ipython3",
   "version": "3.9.18"
  }
 },
 "nbformat": 4,
 "nbformat_minor": 5
}
