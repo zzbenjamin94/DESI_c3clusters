{
 "cells": [
  {
   "cell_type": "code",
   "execution_count": null,
   "id": "e121f0ea-cc21-4dee-977a-7bb4e7fd7c1d",
   "metadata": {},
   "outputs": [],
   "source": []
  }
 ],
 "metadata": {
  "kernelspec": {
   "display_name": "myEnv_v39",
   "language": "python",
   "name": "myenv_v39"
  },
  "language_info": {
   "name": ""
  }
 },
 "nbformat": 4,
 "nbformat_minor": 5
}
