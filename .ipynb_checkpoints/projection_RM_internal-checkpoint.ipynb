{
 "cells": [
  {
   "cell_type": "code",
   "execution_count": 1,
   "id": "3f507e37-27f2-452b-8cd2-3b2d0ced7269",
   "metadata": {},
   "outputs": [],
   "source": [
    "from scipy.stats import kde\n",
    "import h5py\n",
    "import astropy.io.fits as fits\n",
    "import csv\n",
    "import pandas as pd\n",
    "import numpy as np\n",
    "import tables\n",
    "import pickle\n",
    "import os\n",
    "from astropy.table import Table\n",
    "from astropy.coordinates import SkyCoord\n",
    "from tqdm import tqdm\n",
    "from astropy.io import ascii\n",
    "import os\n",
    "import pandas as pd\n",
    "import matplotlib.pyplot as plt\n",
    "import seaborn as sns\n",
    "import incredible as cr\n",
    "from scipy.special import erf\n",
    "from scipy import stats\n",
    "import scipy.optimize as opt\n",
    "from scipy import stats\n",
    "import scipy.optimize as opt\n",
    "import emcee\n",
    "import tqdm"
   ]
  },
  {
   "cell_type": "code",
   "execution_count": 2,
   "id": "a6eefbd1-ee3a-400d-bf91-e9486e12bcc5",
   "metadata": {},
   "outputs": [],
   "source": [
    "import warnings\n",
    "warnings.filterwarnings(\"ignore\")"
   ]
  },
  {
   "cell_type": "markdown",
   "id": "9d390633-fc23-4307-982f-3276635c575f",
   "metadata": {},
   "source": [
    "### On the RM Catalog\n",
    "\n",
    "The subscripts _x denote the central galaxy properties and _y denote all galaxies. We removed double counts of the central galaxy"
   ]
  },
  {
   "cell_type": "code",
   "execution_count": 3,
   "id": "2e6b517d-7487-4615-9138-e1f552375fd1",
   "metadata": {},
   "outputs": [],
   "source": [
    "with open('RM_SDSS_df.pkl', 'rb') as handle:\n",
    "    RM_df = pickle.load(handle)"
   ]
  },
  {
   "cell_type": "code",
   "execution_count": 4,
   "id": "ff84f297-034f-4876-b6de-6571529c46cd",
   "metadata": {},
   "outputs": [],
   "source": [
    "rm_data = Table.from_pandas(RM_df)"
   ]
  },
  {
   "cell_type": "code",
   "execution_count": 69,
   "id": "30bbbcee-d723-4afd-9680-560a1e176c7b",
   "metadata": {},
   "outputs": [],
   "source": [
    "##Remove clusters with bad spectroscopic redshift. \n",
    "cut = np.where((rm_data['Z_SPEC_x'] > 0) &\\\n",
    "               (rm_data['Z_SPEC_y'] >0) &\\\n",
    "               (rm_data['Z_SPEC_y'] != rm_data['Z_SPEC_x']))\n",
    "rm_data = rm_data[cut]"
   ]
  },
  {
   "cell_type": "code",
   "execution_count": 70,
   "id": "dea87832-5948-4d2c-9b66-5a6ee66d6395",
   "metadata": {},
   "outputs": [
    {
     "data": {
      "text/plain": [
       "<TableColumns names=('ID','NAME','RA_x','DEC_x','Z_LAMBDA','Z_LAMBDA_ERR','LAMBDA','LAMBDA_ERR','S','Z_SPEC_x','OBJID_x','IMAG_x','IMAG_ERR_x','MODEL_MAG_U_x','MODEL_MAGERR_U_x','MODEL_MAG_G_x','MODEL_MAGERR_G_x','MODEL_MAG_R_x','MODEL_MAGERR_R_x','MODEL_MAG_I_x','MODEL_MAGERR_I_x','MODEL_MAG_Z_x','MODEL_MAGERR_Z_x','ILUM','RA_y','DEC_y','R','P','P_FREE','THETA_I','THETA_R','IMAG_y','IMAG_ERR_y','MODEL_MAG_U_y','MODEL_MAGERR_U_y','MODEL_MAG_G_y','MODEL_MAGERR_G_y','MODEL_MAG_R_y','MODEL_MAGERR_R_y','MODEL_MAG_I_y','MODEL_MAGERR_I_y','MODEL_MAG_Z_y','MODEL_MAGERR_Z_y','Z_SPEC_y','OBJID_y','R_LAMBDA','z_diff')>"
      ]
     },
     "execution_count": 70,
     "metadata": {},
     "output_type": "execute_result"
    }
   ],
   "source": [
    "rm_data.columns"
   ]
  },
  {
   "cell_type": "code",
   "execution_count": 71,
   "id": "c1075a69-a7a4-4444-92a6-d0a679d7e5fc",
   "metadata": {},
   "outputs": [],
   "source": [
    "rm_data['z_diff'] = (rm_data['Z_SPEC_y']-rm_data['Z_SPEC_x'])/(1+rm_data['Z_SPEC_x'])"
   ]
  },
  {
   "cell_type": "code",
   "execution_count": 72,
   "id": "04aa2c98-4fd9-4050-86d2-777216a764d2",
   "metadata": {},
   "outputs": [],
   "source": [
    "rm_data.remove_rows(np.where(rm_data['z_diff']==0)[0])"
   ]
  },
  {
   "cell_type": "markdown",
   "id": "d03a6019-06e0-4e1e-a8b6-f6e585e487fb",
   "metadata": {},
   "source": [
    "## Do z_diff for RM clusters\n",
    "_y refers to the galaxies\n",
    "\n",
    "_x is for the central BCG or the cluster property"
   ]
  },
  {
   "cell_type": "code",
   "execution_count": 73,
   "id": "64c055a2-329d-44e1-a68e-562193120e80",
   "metadata": {},
   "outputs": [],
   "source": [
    "import warnings\n",
    "import numpy as np\n",
    "import matplotlib.pyplot as plt\n",
    "from astropy.modeling import models\n",
    "from astropy.modeling.polynomial import Chebyshev1D, Polynomial1D\n",
    "from astropy.modeling.functional_models import Linear1D\n",
    "from astropy import units as u\n",
    "from specutils.spectra import Spectrum1D, SpectralRegion\n",
    "from specutils.fitting import fit_generic_continuum\n",
    "import linetools"
   ]
  },
  {
   "cell_type": "code",
   "execution_count": 74,
   "id": "7e52a3a1-d890-4588-bd44-724b79dc9e79",
   "metadata": {},
   "outputs": [],
   "source": [
    "from specutils import SpectralRegion\n",
    "exclude_regions = [SpectralRegion(-0.05 * u.um, 0.05 * u.um)]"
   ]
  },
  {
   "cell_type": "code",
   "execution_count": 75,
   "id": "d72f1115-a178-46af-aa73-948674d596cd",
   "metadata": {},
   "outputs": [],
   "source": [
    "#Bin by richness\n",
    "lmda_bins = [[20,30],[30,50],[50,300]] #upper limit must match lower limit of next bin\n",
    "\n",
    "## Bin by redshift\n",
    "z_bins = [[0.15,0.2],[0.2,0.3],[0.3,0.4]]"
   ]
  },
  {
   "cell_type": "code",
   "execution_count": 76,
   "id": "e54c468f-0467-4443-a2ba-682cbe989549",
   "metadata": {},
   "outputs": [],
   "source": [
    "small_bin = np.linspace(-0.01,0.01,101)\n",
    "wide_bin_1 = np.linspace(-0.2,-0.01,51)\n",
    "wide_bin_2 = np.linspace(0.01,0.2,51)\n",
    "\n",
    "binBoundaries = np.hstack((wide_bin_1, small_bin))\n",
    "binBoundaries = np.hstack((binBoundaries, wide_bin_2))\n",
    "binCent = np.asarray([(binBoundaries[i] + binBoundaries[i+1])/2 for i in range(len(binBoundaries)-1)])"
   ]
  },
  {
   "cell_type": "code",
   "execution_count": 77,
   "id": "feb7b26d-a125-4742-b6f4-dfb50deb0ba6",
   "metadata": {},
   "outputs": [],
   "source": [
    "val, bin_edges= np.histogram(rm_data['z_diff'], bins=binBoundaries, density=True)\n",
    "#numCount, bin_edges = np.histogram(z_diff, bins=binBoundaries, density=False) \n",
    "\n",
    "##For Poissonian noise\n",
    "#numCount[np.where(numCount<=0)] = 1 #Avoid dividing by 0 or NAN\n",
    "#y_err = np.sqrt(numCount)\n",
    "#y_err *= val/numCount\n",
    "#y_err += 0.001 ## Add small number to avoid blowing up\n",
    "y_err = np.sqrt(val)\n",
    "y_err[np.where(y_err==0)] = 1\n",
    "\n",
    "\n",
    "spectrum = Spectrum1D(flux=val*u.Jy, spectral_axis=binCent*u.um)\n",
    "g1_fit = fit_generic_continuum(spectrum, model=Chebyshev1D(5), median_window=3, exclude_regions=exclude_regions)\n",
    "y_continuum_fitted_1 = g1_fit(binCent*u.um)\n",
    "\n",
    "            \n",
    "##Take Poisson error before subtracting the continuum\n",
    "y_err = np.sqrt(val)\n",
    "y_err[np.where(y_err==0)] = 1 ## Ad hoc method to correct for bins with 0\n",
    "\n",
    "#val -= y_continuum_fitted_1.value"
   ]
  },
  {
   "cell_type": "code",
   "execution_count": 78,
   "id": "22426cdb-4c5b-4711-b8ed-34a462a585b6",
   "metadata": {},
   "outputs": [
    {
     "data": {
      "text/plain": [
       "(array([2.300e+01, 2.980e+02, 3.722e+03, 3.538e+04, 2.322e+03, 4.240e+02,\n",
       "        1.400e+02, 3.800e+01, 1.200e+01, 1.000e+00]),\n",
       " array([-0.24467905, -0.16877526, -0.09287147, -0.01696769,  0.0589361 ,\n",
       "         0.13483989,  0.21074367,  0.28664747,  0.36255124,  0.43845505,\n",
       "         0.51435882]),\n",
       " <BarContainer object of 10 artists>)"
      ]
     },
     "execution_count": 78,
     "metadata": {},
     "output_type": "execute_result"
    },
    {
     "data": {
      "image/png": "[encoded data removed]",
      "text/plain": [
       "<Figure size 640x480 with 1 Axes>"
      ]
     },
     "metadata": {},
     "output_type": "display_data"
    }
   ],
   "source": [
    "plt.hist(rm_data['z_diff'])"
   ]
  },
  {
   "cell_type": "code",
   "execution_count": 89,
   "id": "c420b3d2-50de-4133-a805-9568bf098633",
   "metadata": {},
   "outputs": [
    {
     "data": {
      "image/png": "[encoded data removed]",
      "text/plain": [
       "<Figure size 640x480 with 1 Axes>"
      ]
     },
     "metadata": {},
     "output_type": "display_data"
    }
   ],
   "source": [
    "plt.errorbar(binCent, val, yerr=y_err, linestyle='none')\n",
    "plt.xlabel(r\"$(z_{\\rm{gal}} - z_{\\rm{RM}})/(1+z_{\\rm{bgs}})$\")\n",
    "plt.yscale('log')\n",
    "plt.xlim([-0.01,0.01])\n",
    "plt.show()"
   ]
  },
  {
   "cell_type": "code",
   "execution_count": 91,
   "id": "9fa90465-01d5-4007-9bac-f9e8995653d4",
   "metadata": {},
   "outputs": [
    {
     "data": {
      "image/png": "[encoded data removed]",
      "text/plain": [
       "<Figure size 640x480 with 1 Axes>"
      ]
     },
     "metadata": {},
     "output_type": "display_data"
    }
   ],
   "source": [
    "plt.errorbar(binCent, val, yerr=y_err, linestyle='none')\n",
    "plt.xlabel(r\"$(z_{\\rm{gal}} - z_{\\rm{RM}})/(1+z_{\\rm{gal}})$\")\n",
    "plt.yscale('log')\n",
    "plt.xlim([-0.1,0.1])\n",
    "plt.show()"
   ]
  },
  {
   "cell_type": "code",
   "execution_count": 87,
   "id": "e46a41d2-a449-485a-bb7b-fa7ec5a062ca",
   "metadata": {},
   "outputs": [
    {
     "data": {
      "image/png": "[encoded data removed]",
      "text/plain": [
       "<Figure size 640x480 with 1 Axes>"
      ]
     },
     "metadata": {},
     "output_type": "display_data"
    }
   ],
   "source": [
    "plt.errorbar(binCent, val, yerr=y_err, linestyle='none')\n",
    "plt.xlabel(r\"$(z_{\\rm{gal}} - z_{\\rm{RM}})/(1+z_{\\rm{bgs}})$\")\n",
    "plt.yscale('log')\n",
    "plt.xlim([-0.2,0.2])\n",
    "plt.show()"
   ]
  },
  {
   "cell_type": "markdown",
   "id": "1f0865ab-5522-44db-a004-fc11b3616001",
   "metadata": {},
   "source": [
    "## Match to BGS galaxies"
   ]
  },
  {
   "cell_type": "code",
   "execution_count": null,
   "id": "b16db56a-4ee2-4cd0-ac67-b13b2e5c3ff8",
   "metadata": {},
   "outputs": [],
   "source": []
  }
 ],
 "metadata": {
  "kernelspec": {
   "display_name": "myEnv_v39",
   "language": "python",
   "name": "myenv_v39"
  },
  "language_info": {
   "codemirror_mode": {
    "name": "ipython",
    "version": 3
   },
   "file_extension": ".py",
   "mimetype": "text/x-python",
   "name": "python",
   "nbconvert_exporter": "python",
   "pygments_lexer": "ipython3",
   "version": "3.9.18"
  }
 },
 "nbformat": 4,
 "nbformat_minor": 5
}
