{
 "cells": [
  {
   "cell_type": "markdown",
   "id": "9c010c19-00c1-4ae7-ad56-c0f21eb273bc",
   "metadata": {},
   "source": [
    "## Galaxy contour plot"
   ]
  },
  {
   "cell_type": "markdown",
   "id": "e5227f93-f515-46d6-aef5-fef6de3a774f",
   "metadata": {},
   "source": [
    "### Import packages"
   ]
  },
  {
   "cell_type": "code",
   "execution_count": 1,
   "id": "32e4bd33-b552-43d5-bcac-947399faca89",
   "metadata": {},
   "outputs": [],
   "source": [
    "## testing multidark\n",
    "import numpy as np\n",
    "import matplotlib.pyplot as plt\n",
    "import seaborn as sns\n",
    "from scipy.stats import kde\n",
    "import h5py\n",
    "import astropy.io.fits as fits\n",
    "import csv\n",
    "import pandas as pd\n",
    "import h5py\n",
    "import tables\n",
    "import pickle\n",
    "import os\n",
    "from astropy.table import Table\n",
    "from astropy.coordinates import SkyCoord\n",
    "from tqdm import tqdm\n",
    "from astropy.io import ascii\n",
    "import pickle\n",
    "import os\n",
    "from glob import glob\n",
    "import scipy"
   ]
  },
  {
   "cell_type": "code",
   "execution_count": 2,
   "id": "d16a9819-3402-4bdb-91a2-b50373fcaacd",
   "metadata": {},
   "outputs": [],
   "source": [
    "datadir = '/pscratch/sd/z/zzhang13/SDSS/'"
   ]
  },
  {
   "cell_type": "markdown",
   "id": "c5b693b6-d5fe-409d-b4c9-f9ad68ed37ce",
   "metadata": {},
   "source": [
    "### Import redMaPPer and member catalog\n",
    "\n",
    "* redmapper_dr8_public_v6.3_catalog.fits\n",
    "* redmapper_dr8_public_v6.3_members.fits"
   ]
  },
  {
   "cell_type": "code",
   "execution_count": 10,
   "id": "3d1125bb-f5db-47c7-8bce-db7143e3c14d",
   "metadata": {},
   "outputs": [
    {
     "data": {
      "text/plain": [
       "Index(['ID', 'NAME', 'RA', 'DEC', 'Z_LAMBDA', 'Z_LAMBDA_ERR', 'LAMBDA',\n",
       "       'LAMBDA_ERR', 'S', 'Z_SPEC', 'OBJID', 'IMAG', 'IMAG_ERR', 'MODEL_MAG_U',\n",
       "       'MODEL_MAGERR_U', 'MODEL_MAG_G', 'MODEL_MAGERR_G', 'MODEL_MAG_R',\n",
       "       'MODEL_MAGERR_R', 'MODEL_MAG_I', 'MODEL_MAGERR_I', 'MODEL_MAG_Z',\n",
       "       'MODEL_MAGERR_Z', 'ILUM'],\n",
       "      dtype='object')"
      ]
     },
     "execution_count": 10,
     "metadata": {},
     "output_type": "execute_result"
    }
   ],
   "source": [
    "#Only record array pickle file\n",
    "import pickle\n",
    "from astropy.table import Table\n",
    "\n",
    "\n",
    "RM_file = datadir + 'redmapper_dr8_public_v6.3_catalog.fits'\n",
    "RM_data = Table.read(RM_file)\n",
    "\n",
    "##Filtering out multi-valued columns\n",
    "names = [name for name in RM_data.dtype.names if len(RM_data[name].shape) <= 1]\n",
    "#RM_data = RM_data[names]\n",
    "RM_df = RM_data[names].to_pandas()\n",
    "RM_df.columns"
   ]
  },
  {
   "cell_type": "markdown",
   "id": "15fe0497-4f51-4b8e-af00-22d82fe06531",
   "metadata": {},
   "source": [
    "### Galaxy catalog"
   ]
  },
  {
   "cell_type": "code",
   "execution_count": 11,
   "id": "25e8cc19-4d1b-4b0c-bd44-e7d328789b34",
   "metadata": {},
   "outputs": [
    {
     "data": {
      "text/html": [
       "<div>\n",
       "<style scoped>\n",
       "    .dataframe tbody tr th:only-of-type {\n",
       "        vertical-align: middle;\n",
       "    }\n",
       "\n",
       "    .dataframe tbody tr th {\n",
       "        vertical-align: top;\n",
       "    }\n",
       "\n",
       "    .dataframe thead th {\n",
       "        text-align: right;\n",
       "    }\n",
       "</style>\n",
       "<table border=\"1\" class=\"dataframe\">\n",
       "  <thead>\n",
       "    <tr style=\"text-align: right;\">\n",
       "      <th></th>\n",
       "      <th>ID</th>\n",
       "      <th>RA</th>\n",
       "      <th>DEC</th>\n",
       "      <th>R</th>\n",
       "      <th>P</th>\n",
       "      <th>P_FREE</th>\n",
       "      <th>THETA_I</th>\n",
       "      <th>THETA_R</th>\n",
       "      <th>IMAG</th>\n",
       "      <th>IMAG_ERR</th>\n",
       "      <th>...</th>\n",
       "      <th>MODEL_MAG_G</th>\n",
       "      <th>MODEL_MAGERR_G</th>\n",
       "      <th>MODEL_MAG_R</th>\n",
       "      <th>MODEL_MAGERR_R</th>\n",
       "      <th>MODEL_MAG_I</th>\n",
       "      <th>MODEL_MAGERR_I</th>\n",
       "      <th>MODEL_MAG_Z</th>\n",
       "      <th>MODEL_MAGERR_Z</th>\n",
       "      <th>Z_SPEC</th>\n",
       "      <th>OBJID</th>\n",
       "    </tr>\n",
       "  </thead>\n",
       "  <tbody>\n",
       "    <tr>\n",
       "      <th>0</th>\n",
       "      <td>1</td>\n",
       "      <td>239.852334</td>\n",
       "      <td>27.216850</td>\n",
       "      <td>1.079695</td>\n",
       "      <td>0.907741</td>\n",
       "      <td>1.0</td>\n",
       "      <td>1.0</td>\n",
       "      <td>0.739267</td>\n",
       "      <td>0.0</td>\n",
       "      <td>0.0</td>\n",
       "      <td>...</td>\n",
       "      <td>17.096111</td>\n",
       "      <td>0.004797</td>\n",
       "      <td>16.144676</td>\n",
       "      <td>0.003606</td>\n",
       "      <td>15.706505</td>\n",
       "      <td>0.003757</td>\n",
       "      <td>15.367328</td>\n",
       "      <td>0.007595</td>\n",
       "      <td>0.092960</td>\n",
       "      <td>1237662664290402765</td>\n",
       "    </tr>\n",
       "    <tr>\n",
       "      <th>1</th>\n",
       "      <td>1</td>\n",
       "      <td>239.752627</td>\n",
       "      <td>27.095086</td>\n",
       "      <td>0.920870</td>\n",
       "      <td>0.804422</td>\n",
       "      <td>1.0</td>\n",
       "      <td>1.0</td>\n",
       "      <td>0.999933</td>\n",
       "      <td>0.0</td>\n",
       "      <td>0.0</td>\n",
       "      <td>...</td>\n",
       "      <td>18.370716</td>\n",
       "      <td>0.009488</td>\n",
       "      <td>17.353680</td>\n",
       "      <td>0.006270</td>\n",
       "      <td>16.914942</td>\n",
       "      <td>0.006140</td>\n",
       "      <td>16.525486</td>\n",
       "      <td>0.012563</td>\n",
       "      <td>0.089536</td>\n",
       "      <td>1237662305662992496</td>\n",
       "    </tr>\n",
       "    <tr>\n",
       "      <th>2</th>\n",
       "      <td>1</td>\n",
       "      <td>239.811968</td>\n",
       "      <td>27.172997</td>\n",
       "      <td>0.955226</td>\n",
       "      <td>0.959019</td>\n",
       "      <td>1.0</td>\n",
       "      <td>1.0</td>\n",
       "      <td>0.999127</td>\n",
       "      <td>0.0</td>\n",
       "      <td>0.0</td>\n",
       "      <td>...</td>\n",
       "      <td>18.266935</td>\n",
       "      <td>0.009735</td>\n",
       "      <td>17.324764</td>\n",
       "      <td>0.006860</td>\n",
       "      <td>16.920277</td>\n",
       "      <td>0.007729</td>\n",
       "      <td>16.574057</td>\n",
       "      <td>0.019480</td>\n",
       "      <td>0.090863</td>\n",
       "      <td>1237662664290402755</td>\n",
       "    </tr>\n",
       "    <tr>\n",
       "      <th>3</th>\n",
       "      <td>1</td>\n",
       "      <td>239.801773</td>\n",
       "      <td>27.099718</td>\n",
       "      <td>1.062198</td>\n",
       "      <td>0.864776</td>\n",
       "      <td>1.0</td>\n",
       "      <td>1.0</td>\n",
       "      <td>0.839163</td>\n",
       "      <td>0.0</td>\n",
       "      <td>0.0</td>\n",
       "      <td>...</td>\n",
       "      <td>16.761656</td>\n",
       "      <td>0.004821</td>\n",
       "      <td>15.825936</td>\n",
       "      <td>0.003578</td>\n",
       "      <td>15.402042</td>\n",
       "      <td>0.003866</td>\n",
       "      <td>15.038588</td>\n",
       "      <td>0.008395</td>\n",
       "      <td>0.086508</td>\n",
       "      <td>1237662664290402821</td>\n",
       "    </tr>\n",
       "    <tr>\n",
       "      <th>4</th>\n",
       "      <td>1</td>\n",
       "      <td>239.839223</td>\n",
       "      <td>27.196538</td>\n",
       "      <td>1.038076</td>\n",
       "      <td>0.915557</td>\n",
       "      <td>1.0</td>\n",
       "      <td>1.0</td>\n",
       "      <td>0.929687</td>\n",
       "      <td>0.0</td>\n",
       "      <td>0.0</td>\n",
       "      <td>...</td>\n",
       "      <td>17.334044</td>\n",
       "      <td>0.005562</td>\n",
       "      <td>16.386499</td>\n",
       "      <td>0.004084</td>\n",
       "      <td>15.944184</td>\n",
       "      <td>0.004318</td>\n",
       "      <td>15.608700</td>\n",
       "      <td>0.009374</td>\n",
       "      <td>0.091500</td>\n",
       "      <td>1237662664290402773</td>\n",
       "    </tr>\n",
       "  </tbody>\n",
       "</table>\n",
       "<p>5 rows × 22 columns</p>\n",
       "</div>"
      ],
      "text/plain": [
       "   ID          RA        DEC         R         P  P_FREE  THETA_I   THETA_R  \\\n",
       "0   1  239.852334  27.216850  1.079695  0.907741     1.0      1.0  0.739267   \n",
       "1   1  239.752627  27.095086  0.920870  0.804422     1.0      1.0  0.999933   \n",
       "2   1  239.811968  27.172997  0.955226  0.959019     1.0      1.0  0.999127   \n",
       "3   1  239.801773  27.099718  1.062198  0.864776     1.0      1.0  0.839163   \n",
       "4   1  239.839223  27.196538  1.038076  0.915557     1.0      1.0  0.929687   \n",
       "\n",
       "   IMAG  IMAG_ERR  ...  MODEL_MAG_G  MODEL_MAGERR_G  MODEL_MAG_R  \\\n",
       "0   0.0       0.0  ...    17.096111        0.004797    16.144676   \n",
       "1   0.0       0.0  ...    18.370716        0.009488    17.353680   \n",
       "2   0.0       0.0  ...    18.266935        0.009735    17.324764   \n",
       "3   0.0       0.0  ...    16.761656        0.004821    15.825936   \n",
       "4   0.0       0.0  ...    17.334044        0.005562    16.386499   \n",
       "\n",
       "   MODEL_MAGERR_R  MODEL_MAG_I  MODEL_MAGERR_I  MODEL_MAG_Z  MODEL_MAGERR_Z  \\\n",
       "0        0.003606    15.706505        0.003757    15.367328        0.007595   \n",
       "1        0.006270    16.914942        0.006140    16.525486        0.012563   \n",
       "2        0.006860    16.920277        0.007729    16.574057        0.019480   \n",
       "3        0.003578    15.402042        0.003866    15.038588        0.008395   \n",
       "4        0.004084    15.944184        0.004318    15.608700        0.009374   \n",
       "\n",
       "     Z_SPEC                OBJID  \n",
       "0  0.092960  1237662664290402765  \n",
       "1  0.089536  1237662305662992496  \n",
       "2  0.090863  1237662664290402755  \n",
       "3  0.086508  1237662664290402821  \n",
       "4  0.091500  1237662664290402773  \n",
       "\n",
       "[5 rows x 22 columns]"
      ]
     },
     "execution_count": 11,
     "metadata": {},
     "output_type": "execute_result"
    }
   ],
   "source": [
    "#Only record array pickle file\n",
    "RM_mem_file = datadir + 'redmapper_dr8_public_v6.3_members.fits'\n",
    "RM_mem_data = Table.read(RM_mem_file)\n",
    "\n",
    "##Filtering out multi-valued columns\n",
    "names = [name for name in RM_mem_data.dtype.names if len(RM_mem_data[name].shape) <= 1]\n",
    "#RM_data = RM_data[names]\n",
    "RM_mem_df = RM_mem_data[names].to_pandas()\n",
    "RM_mem_df.head()"
   ]
  },
  {
   "cell_type": "markdown",
   "id": "88d836a7-99f2-473f-8dbc-31c656323811",
   "metadata": {},
   "source": [
    "### Import the matched BGS catalog if available."
   ]
  },
  {
   "cell_type": "code",
   "execution_count": 14,
   "id": "99eedcf3-5a2c-4b00-897e-07ee8f852160",
   "metadata": {},
   "outputs": [],
   "source": [
    "with open('bgs_clus_RM_gal_matched.pickle', 'rb') as handle:\n",
    "    bgs_matched = pickle.load(handle)"
   ]
  },
  {
   "cell_type": "markdown",
   "id": "c51a4e3f-3871-49aa-bca3-3d6204d61842",
   "metadata": {},
   "source": [
    "## Merging the galaxy and RM files"
   ]
  },
  {
   "cell_type": "code",
   "execution_count": 15,
   "id": "84082302-16ab-4706-bf9f-14e08f6df870",
   "metadata": {},
   "outputs": [
    {
     "data": {
      "text/html": [
       "<div>\n",
       "<style scoped>\n",
       "    .dataframe tbody tr th:only-of-type {\n",
       "        vertical-align: middle;\n",
       "    }\n",
       "\n",
       "    .dataframe tbody tr th {\n",
       "        vertical-align: top;\n",
       "    }\n",
       "\n",
       "    .dataframe thead th {\n",
       "        text-align: right;\n",
       "    }\n",
       "</style>\n",
       "<table border=\"1\" class=\"dataframe\">\n",
       "  <thead>\n",
       "    <tr style=\"text-align: right;\">\n",
       "      <th></th>\n",
       "      <th>ID</th>\n",
       "      <th>NAME</th>\n",
       "      <th>RA_x</th>\n",
       "      <th>DEC_x</th>\n",
       "      <th>Z_LAMBDA</th>\n",
       "      <th>Z_LAMBDA_ERR</th>\n",
       "      <th>LAMBDA</th>\n",
       "      <th>LAMBDA_ERR</th>\n",
       "      <th>S</th>\n",
       "      <th>Z_SPEC_x</th>\n",
       "      <th>...</th>\n",
       "      <th>MODEL_MAG_G_y</th>\n",
       "      <th>MODEL_MAGERR_G_y</th>\n",
       "      <th>MODEL_MAG_R_y</th>\n",
       "      <th>MODEL_MAGERR_R_y</th>\n",
       "      <th>MODEL_MAG_I_y</th>\n",
       "      <th>MODEL_MAGERR_I_y</th>\n",
       "      <th>MODEL_MAG_Z_y</th>\n",
       "      <th>MODEL_MAGERR_Z_y</th>\n",
       "      <th>Z_SPEC_y</th>\n",
       "      <th>OBJID_y</th>\n",
       "    </tr>\n",
       "  </thead>\n",
       "  <tbody>\n",
       "    <tr>\n",
       "      <th>0</th>\n",
       "      <td>1</td>\n",
       "      <td>b'RMJ155820.0+271400.3'</td>\n",
       "      <td>239.583329</td>\n",
       "      <td>27.233413</td>\n",
       "      <td>0.094831</td>\n",
       "      <td>0.004582</td>\n",
       "      <td>169.837845</td>\n",
       "      <td>4.187026</td>\n",
       "      <td>1.011366</td>\n",
       "      <td>0.090807</td>\n",
       "      <td>...</td>\n",
       "      <td>17.096111</td>\n",
       "      <td>0.004797</td>\n",
       "      <td>16.144676</td>\n",
       "      <td>0.003606</td>\n",
       "      <td>15.706505</td>\n",
       "      <td>0.003757</td>\n",
       "      <td>15.367328</td>\n",
       "      <td>0.007595</td>\n",
       "      <td>0.092960</td>\n",
       "      <td>1237662664290402765</td>\n",
       "    </tr>\n",
       "    <tr>\n",
       "      <th>1</th>\n",
       "      <td>1</td>\n",
       "      <td>b'RMJ155820.0+271400.3'</td>\n",
       "      <td>239.583329</td>\n",
       "      <td>27.233413</td>\n",
       "      <td>0.094831</td>\n",
       "      <td>0.004582</td>\n",
       "      <td>169.837845</td>\n",
       "      <td>4.187026</td>\n",
       "      <td>1.011366</td>\n",
       "      <td>0.090807</td>\n",
       "      <td>...</td>\n",
       "      <td>18.370716</td>\n",
       "      <td>0.009488</td>\n",
       "      <td>17.353680</td>\n",
       "      <td>0.006270</td>\n",
       "      <td>16.914942</td>\n",
       "      <td>0.006140</td>\n",
       "      <td>16.525486</td>\n",
       "      <td>0.012563</td>\n",
       "      <td>0.089536</td>\n",
       "      <td>1237662305662992496</td>\n",
       "    </tr>\n",
       "    <tr>\n",
       "      <th>2</th>\n",
       "      <td>1</td>\n",
       "      <td>b'RMJ155820.0+271400.3'</td>\n",
       "      <td>239.583329</td>\n",
       "      <td>27.233413</td>\n",
       "      <td>0.094831</td>\n",
       "      <td>0.004582</td>\n",
       "      <td>169.837845</td>\n",
       "      <td>4.187026</td>\n",
       "      <td>1.011366</td>\n",
       "      <td>0.090807</td>\n",
       "      <td>...</td>\n",
       "      <td>18.266935</td>\n",
       "      <td>0.009735</td>\n",
       "      <td>17.324764</td>\n",
       "      <td>0.006860</td>\n",
       "      <td>16.920277</td>\n",
       "      <td>0.007729</td>\n",
       "      <td>16.574057</td>\n",
       "      <td>0.019480</td>\n",
       "      <td>0.090863</td>\n",
       "      <td>1237662664290402755</td>\n",
       "    </tr>\n",
       "    <tr>\n",
       "      <th>3</th>\n",
       "      <td>1</td>\n",
       "      <td>b'RMJ155820.0+271400.3'</td>\n",
       "      <td>239.583329</td>\n",
       "      <td>27.233413</td>\n",
       "      <td>0.094831</td>\n",
       "      <td>0.004582</td>\n",
       "      <td>169.837845</td>\n",
       "      <td>4.187026</td>\n",
       "      <td>1.011366</td>\n",
       "      <td>0.090807</td>\n",
       "      <td>...</td>\n",
       "      <td>16.761656</td>\n",
       "      <td>0.004821</td>\n",
       "      <td>15.825936</td>\n",
       "      <td>0.003578</td>\n",
       "      <td>15.402042</td>\n",
       "      <td>0.003866</td>\n",
       "      <td>15.038588</td>\n",
       "      <td>0.008395</td>\n",
       "      <td>0.086508</td>\n",
       "      <td>1237662664290402821</td>\n",
       "    </tr>\n",
       "    <tr>\n",
       "      <th>4</th>\n",
       "      <td>1</td>\n",
       "      <td>b'RMJ155820.0+271400.3'</td>\n",
       "      <td>239.583329</td>\n",
       "      <td>27.233413</td>\n",
       "      <td>0.094831</td>\n",
       "      <td>0.004582</td>\n",
       "      <td>169.837845</td>\n",
       "      <td>4.187026</td>\n",
       "      <td>1.011366</td>\n",
       "      <td>0.090807</td>\n",
       "      <td>...</td>\n",
       "      <td>17.334044</td>\n",
       "      <td>0.005562</td>\n",
       "      <td>16.386499</td>\n",
       "      <td>0.004084</td>\n",
       "      <td>15.944184</td>\n",
       "      <td>0.004318</td>\n",
       "      <td>15.608700</td>\n",
       "      <td>0.009374</td>\n",
       "      <td>0.091500</td>\n",
       "      <td>1237662664290402773</td>\n",
       "    </tr>\n",
       "  </tbody>\n",
       "</table>\n",
       "<p>5 rows × 45 columns</p>\n",
       "</div>"
      ],
      "text/plain": [
       "   ID                     NAME        RA_x      DEC_x  Z_LAMBDA  Z_LAMBDA_ERR  \\\n",
       "0   1  b'RMJ155820.0+271400.3'  239.583329  27.233413  0.094831      0.004582   \n",
       "1   1  b'RMJ155820.0+271400.3'  239.583329  27.233413  0.094831      0.004582   \n",
       "2   1  b'RMJ155820.0+271400.3'  239.583329  27.233413  0.094831      0.004582   \n",
       "3   1  b'RMJ155820.0+271400.3'  239.583329  27.233413  0.094831      0.004582   \n",
       "4   1  b'RMJ155820.0+271400.3'  239.583329  27.233413  0.094831      0.004582   \n",
       "\n",
       "       LAMBDA  LAMBDA_ERR         S  Z_SPEC_x  ...  MODEL_MAG_G_y  \\\n",
       "0  169.837845    4.187026  1.011366  0.090807  ...      17.096111   \n",
       "1  169.837845    4.187026  1.011366  0.090807  ...      18.370716   \n",
       "2  169.837845    4.187026  1.011366  0.090807  ...      18.266935   \n",
       "3  169.837845    4.187026  1.011366  0.090807  ...      16.761656   \n",
       "4  169.837845    4.187026  1.011366  0.090807  ...      17.334044   \n",
       "\n",
       "   MODEL_MAGERR_G_y  MODEL_MAG_R_y  MODEL_MAGERR_R_y  MODEL_MAG_I_y  \\\n",
       "0          0.004797      16.144676          0.003606      15.706505   \n",
       "1          0.009488      17.353680          0.006270      16.914942   \n",
       "2          0.009735      17.324764          0.006860      16.920277   \n",
       "3          0.004821      15.825936          0.003578      15.402042   \n",
       "4          0.005562      16.386499          0.004084      15.944184   \n",
       "\n",
       "   MODEL_MAGERR_I_y  MODEL_MAG_Z_y  MODEL_MAGERR_Z_y  Z_SPEC_y  \\\n",
       "0          0.003757      15.367328          0.007595  0.092960   \n",
       "1          0.006140      16.525486          0.012563  0.089536   \n",
       "2          0.007729      16.574057          0.019480  0.090863   \n",
       "3          0.003866      15.038588          0.008395  0.086508   \n",
       "4          0.004318      15.608700          0.009374  0.091500   \n",
       "\n",
       "               OBJID_y  \n",
       "0  1237662664290402765  \n",
       "1  1237662305662992496  \n",
       "2  1237662664290402755  \n",
       "3  1237662664290402821  \n",
       "4  1237662664290402773  \n",
       "\n",
       "[5 rows x 45 columns]"
      ]
     },
     "execution_count": 15,
     "metadata": {},
     "output_type": "execute_result"
    }
   ],
   "source": [
    "merge_df = pd.merge(RM_df, RM_mem_df, on=\"ID\", how=\"inner\") \n",
    "merge_df.head()"
   ]
  },
  {
   "cell_type": "markdown",
   "id": "9bf8f8e6-318d-4d99-aec7-3af8d10932e9",
   "metadata": {},
   "source": [
    "### Add and modify properties of the merged catalog"
   ]
  },
  {
   "cell_type": "code",
   "execution_count": 18,
   "id": "41936aa6-d808-4e5b-99c1-e99159e16061",
   "metadata": {},
   "outputs": [],
   "source": [
    "R_lambda = (merge_df.LAMBDA/100)**0.2\n",
    "merge_df['R_LAMBDA'] = R_lambda"
   ]
  },
  {
   "cell_type": "code",
   "execution_count": 23,
   "id": "04a290e2-7265-442f-b04b-e63e857e9285",
   "metadata": {},
   "outputs": [],
   "source": [
    "cut = np.where(merge_df['Z_SPEC_y'] != merge_df['Z_SPEC_x'])[0]\n",
    "merge_df = merge_df.iloc[cut]\n",
    "merge_df = merge_df.iloc[np.where(merge_df['Z_SPEC_x'] > 0)]"
   ]
  },
  {
   "cell_type": "markdown",
   "id": "d185e75b-738e-4e77-a5d7-d49227034d03",
   "metadata": {},
   "source": [
    "## Plotting the distribution of galaxies around center."
   ]
  },
  {
   "cell_type": "code",
   "execution_count": 20,
   "id": "d3db56c8-21d3-4cdf-8788-795661d8a9ff",
   "metadata": {},
   "outputs": [],
   "source": [
    "import astropy.units as u\n",
    "from astropy.coordinates import SkyCoord\n",
    "import astropy.cosmology.units as cu\n",
    "from astropy.cosmology import Planck18"
   ]
  },
  {
   "cell_type": "code",
   "execution_count": 21,
   "id": "7623e535-b6c7-4969-abd8-79ab9b3eb059",
   "metadata": {},
   "outputs": [],
   "source": [
    "def spherical_to_cartesian(ra, dec):\n",
    "    \"\"\"\n",
    "    Calculate cartesian coordinates on a unit sphere given two angular coordinates.\n",
    "    parameters\n",
    "\n",
    "    Parameters\n",
    "    -----------\n",
    "    ra : array\n",
    "        Angular coordinate in degrees\n",
    "\n",
    "    dec : array\n",
    "        Angular coordinate in degrees\n",
    "\n",
    "    Returns\n",
    "    --------\n",
    "    x,y,z : sequence of arrays\n",
    "        Cartesian coordinates.\n",
    "\n",
    "    Examples\n",
    "    ---------\n",
    "    >>> ra, dec = 0.1, 1.5\n",
    "    >>> x, y, z = spherical_to_cartesian(ra, dec)\n",
    "\n",
    "    \"\"\"\n",
    "\n",
    "    rar = np.radians(ra)\n",
    "    decr = np.radians(dec)\n",
    "\n",
    "    x = np.cos(rar) * np.cos(decr)\n",
    "    y = np.sin(rar) * np.cos(decr)\n",
    "    z = np.sin(decr)\n",
    "\n",
    "    return x, y, z"
   ]
  },
  {
   "cell_type": "code",
   "execution_count": 22,
   "id": "2031352a-b603-4e90-9096-f8ecda08aa42",
   "metadata": {},
   "outputs": [],
   "source": [
    "def haversine(lon1, lat1, lon2, lat2, r=1):\n",
    "    \"\"\"\n",
    "    Calculate the great circle distance in kilometers between two points (specified in decimal degrees)\n",
    "    \"\"\"\n",
    "    # convert decimal degrees to radians \n",
    "    lon1 = np.radians(lon1)\n",
    "    lat1 = np.radians(lat1)\n",
    "    lon2 = np.radians(lon2)\n",
    "    lat2 = np.radians(lat2)\n",
    "\n",
    "    # haversine formula \n",
    "    dlon = lon2 - lon1 \n",
    "    dlat = lat2 - lat1 \n",
    "    a = np.sin(dlat/2)**2 + np.cos(lat1) * np.cos(lat2) * np.sin(dlon/2)**2\n",
    "    c = 2 * np.arcsin(np.sqrt(a)) \n",
    "    return c*r"
   ]
  },
  {
   "cell_type": "markdown",
   "id": "e15ee794-9132-4c05-a980-b544890428f3",
   "metadata": {},
   "source": [
    "### Describe the radius of members within clusters"
   ]
  },
  {
   "cell_type": "code",
   "execution_count": 24,
   "id": "9e9cf8bd-0692-4b75-acc6-a16e6f52f730",
   "metadata": {},
   "outputs": [],
   "source": [
    "grouped_df = merge_df.groupby(by='ID')\n",
    "r_group = []\n",
    "\n",
    "for name, group in grouped_df:\n",
    "    \n",
    "    rm_z = group['Z_SPEC_x'].values * cu.redshift\n",
    "    rm_d = rm_z.to(u.Mpc, cu.redshift_distance(Planck18, kind=\"comoving\"))\n",
    "\n",
    "    #Compute distances\n",
    "    r = haversine(group['RA_y'], group['DEC_y'], group['RA_x'], \\\n",
    "                  group['DEC_x'], r=rm_d)\n",
    "    r_group = np.hstack((r_group, r))"
   ]
  },
  {
   "cell_type": "markdown",
   "id": "a1a24ac3-82eb-44cb-bbaa-7bfd672643eb",
   "metadata": {},
   "source": [
    "### Radius within 2D aperture including projection effects"
   ]
  },
  {
   "cell_type": "code",
   "execution_count": 25,
   "id": "315cdd33-b0b1-4932-9cb6-1f320bba1506",
   "metadata": {},
   "outputs": [],
   "source": [
    "smallz = merge_df.iloc[np.where(np.abs(merge_df['Z_SPEC_y']-merge_df['Z_SPEC_x'])/(1+merge_df['Z_SPEC_y']) < 0.1)[0]]\n",
    "rm_z = smallz['Z_SPEC_x'].values * cu.redshift\n",
    "rm_d = rm_z.to(u.Mpc, cu.redshift_distance(Planck18, kind=\"comoving\"))\n",
    "\n",
    "\n",
    "#Compute distances\n",
    "r_2daper = haversine(smallz['RA_y'], smallz['DEC_y'], smallz['RA_x'], \\\n",
    "              smallz['DEC_x'], r=rm_d)"
   ]
  },
  {
   "cell_type": "markdown",
   "id": "d4eacc56-fda2-45c8-8f82-6ca66b48e3af",
   "metadata": {},
   "source": [
    "### Distribution of RM centers?"
   ]
  },
  {
   "cell_type": "code",
   "execution_count": 26,
   "id": "9e404863-2b06-4fe9-94f1-3af006816413",
   "metadata": {},
   "outputs": [],
   "source": [
    "rm_df = merge_df.loc[merge_df['ID'].drop_duplicates().index]\n",
    "rm_z = rm_df['Z_SPEC_x'].values * cu.redshift\n",
    "#rm_d = rm_z.to(u.Mpc, cu.redshift_distance(Planck18, kind=\"comoving\")).value\n",
    "rm_d =  (0.2* cu.redshift).to(u.Mpc, cu.redshift_distance(Planck18, kind=\"comoving\")).value"
   ]
  },
  {
   "cell_type": "code",
   "execution_count": 27,
   "id": "7608e334-e1de-43ce-bfe0-31e36227c25f",
   "metadata": {},
   "outputs": [],
   "source": [
    "from scipy.spatial import KDTree, distance_matrix\n",
    "#Compute distances\n",
    "rm_pos = np.array(spherical_to_cartesian(rm_df['RA_x'], rm_df['DEC_x'])).T * rm_d#[:,np.newaxis]\n",
    "#rm_df['pos'] *= np.ones_like(rm_df['pos'])]\n",
    "\n",
    "#Constructing KDTree for pair counting\n",
    "rtree = KDTree(rm_pos)\n",
    "\n",
    "#Number of random points\n",
    "#sdm = rtree.sparse_distance_matrix(rtree, p=2, max_distance = 5, output_type='ndarray')\n",
    "\n",
    "dm = distance_matrix(rm_pos, rm_pos, p=2, threshold=1000000)\n",
    "dm_flat = np.reshape(dm, -1)\n",
    "dm_flat = dm_flat[np.where(dm_flat > 0)] ## Remove the diagonal terms. Those are distances to itself. "
   ]
  },
  {
   "cell_type": "markdown",
   "id": "666319ee-7155-4643-971f-3345e8247382",
   "metadata": {},
   "source": [
    "### Distribution of BGS catalogs"
   ]
  },
  {
   "cell_type": "code",
   "execution_count": 29,
   "id": "de427e92-cfe1-4bc1-82e3-921ebada17b9",
   "metadata": {},
   "outputs": [],
   "source": [
    "smallz = bgs_matched[np.where(np.abs(bgs_matched['Z_BGS']-bgs_matched['Z_SPEC_x'])/(1+bgs_matched['Z_BGS']) < 0.1)]\n",
    "rm_z = smallz['Z_SPEC_x'] * cu.redshift\n",
    "rm_d = rm_z.to(u.Mpc, cu.redshift_distance(Planck18, kind=\"comoving\"))\n",
    "\n",
    "r_bgs = haversine(smallz['RA_BGS'], smallz['DEC_BGS'], smallz['RA_x'], \\\n",
    "              smallz['DEC_x'], r=rm_d)"
   ]
  },
  {
   "cell_type": "code",
   "execution_count": null,
   "id": "fd5c81be-941c-47db-a769-ce3a69692beb",
   "metadata": {},
   "outputs": [],
   "source": [
    "plt.title('Distance in Mpc/h')\n",
    "\n",
    "plt.show()"
   ]
  },
  {
   "cell_type": "code",
   "execution_count": null,
   "id": "cb5670fc-ff2d-4318-9122-3b1fdb0fe25b",
   "metadata": {},
   "outputs": [],
   "source": []
  },
  {
   "cell_type": "code",
   "execution_count": 31,
   "id": "498c72dd-97c1-454b-9331-56120490e847",
   "metadata": {},
   "outputs": [
    {
     "data": {
      "image/png": "[encoded data removed]",
      "text/plain": [
       "<Figure size 640x480 with 1 Axes>"
      ]
     },
     "metadata": {},
     "output_type": "display_data"
    }
   ],
   "source": [
    "plt.hist(r_group, histtype='step', bins=100, label='redMaPPer Cluster Members', density=True)\n",
    "plt.hist(r_2daper, histtype='step', bins=100, label = '2D Aperture RM members only', density=True)\n",
    "plt.hist(dm_flat, bins=100, histtype='step', label='redMaPPer Cluster Centers', density=True)\n",
    "plt.hist(r_bgs, bins=100, histtype='step', label='BGS galaxies-RM Center', density=True)\n",
    "plt.ylabel(r'pdf', fontsize=12)\n",
    "plt.xlabel(r'$R_{\\rm 2d}$ (Mpc/h)', fontsize=12)\n",
    "plt.legend()\n",
    "plt.xlim((-0.2,3))\n",
    "plt.show()"
   ]
  },
  {
   "cell_type": "markdown",
   "id": "ab8198c0-a0f0-4f1f-8e13-571961472c4b",
   "metadata": {},
   "source": [
    "## Plotting 2D distribution\n",
    "* $z \\in [0,0.2)$\n",
    "* $z \\in [0.2, 0.4)$\n",
    "* $z \\in [0.4, 0.6)$ "
   ]
  },
  {
   "cell_type": "code",
   "execution_count": 86,
   "id": "c4ce5c77-bd80-4394-a094-8f3603bcbe51",
   "metadata": {},
   "outputs": [],
   "source": [
    "z_bins = [[0,0.2],[0.2,0.4],[0.4,0.6],[0,1]]"
   ]
  },
  {
   "cell_type": "code",
   "execution_count": 87,
   "id": "335587c8-812b-43aa-8835-0656e0e2684c",
   "metadata": {},
   "outputs": [
    {
     "name": "stdout",
     "output_type": "stream",
     "text": [
      "0\n",
      "[0, 0.2]\n",
      "1\n",
      "[0.2, 0.4]\n",
      "2\n",
      "[0.4, 0.6]\n",
      "3\n",
      "[0, 1]\n"
     ]
    }
   ],
   "source": [
    "for i, z_bin in enumerate(z_bins):\n",
    "    print(i)\n",
    "    print(z_bin)"
   ]
  },
  {
   "cell_type": "code",
   "execution_count": 95,
   "id": "f7a30805-6d24-4531-a3dc-0b65ff13440c",
   "metadata": {},
   "outputs": [
    {
     "ename": "AttributeError",
     "evalue": "'tuple' object has no attribute 'cmap'",
     "output_type": "error",
     "traceback": [
      "\u001b[0;31m---------------------------------------------------------------------------\u001b[0m",
      "\u001b[0;31mAttributeError\u001b[0m                            Traceback (most recent call last)",
      "Cell \u001b[0;32mIn[95], line 15\u001b[0m\n\u001b[1;32m     12\u001b[0m     axs[i]\u001b[38;5;241m.\u001b[39mset_xlabel(\u001b[38;5;124mr\u001b[39m\u001b[38;5;124m'\u001b[39m\u001b[38;5;124m$R/R_\u001b[39m\u001b[38;5;124m{\u001b[39m\u001b[38;5;124m\\\u001b[39m\u001b[38;5;124mlambda}$\u001b[39m\u001b[38;5;124m'\u001b[39m)\n\u001b[1;32m     14\u001b[0m cbar_ax \u001b[38;5;241m=\u001b[39m fig\u001b[38;5;241m.\u001b[39madd_axes([\u001b[38;5;241m0.85\u001b[39m, \u001b[38;5;241m0.15\u001b[39m, \u001b[38;5;241m0.05\u001b[39m, \u001b[38;5;241m0.7\u001b[39m])\n\u001b[0;32m---> 15\u001b[0m \u001b[43mfig\u001b[49m\u001b[38;5;241;43m.\u001b[39;49m\u001b[43mcolorbar\u001b[49m\u001b[43m(\u001b[49m\u001b[43mpcm\u001b[49m\u001b[43m,\u001b[49m\u001b[43m \u001b[49m\u001b[43mcax\u001b[49m\u001b[38;5;241;43m=\u001b[39;49m\u001b[43mcbar_ax\u001b[49m\u001b[43m)\u001b[49m\n\u001b[1;32m     16\u001b[0m plt\u001b[38;5;241m.\u001b[39mshow()\n",
      "File \u001b[0;32m~/.conda/envs/myEnv_v39/lib/python3.9/site-packages/matplotlib/figure.py:1310\u001b[0m, in \u001b[0;36mFigureBase.colorbar\u001b[0;34m(self, mappable, cax, ax, use_gridspec, **kwargs)\u001b[0m\n\u001b[1;32m   1306\u001b[0m     cax\u001b[38;5;241m.\u001b[39mgrid(visible\u001b[38;5;241m=\u001b[39m\u001b[38;5;28;01mFalse\u001b[39;00m, which\u001b[38;5;241m=\u001b[39m\u001b[38;5;124m'\u001b[39m\u001b[38;5;124mboth\u001b[39m\u001b[38;5;124m'\u001b[39m, axis\u001b[38;5;241m=\u001b[39m\u001b[38;5;124m'\u001b[39m\u001b[38;5;124mboth\u001b[39m\u001b[38;5;124m'\u001b[39m)\n\u001b[1;32m   1308\u001b[0m NON_COLORBAR_KEYS \u001b[38;5;241m=\u001b[39m [  \u001b[38;5;66;03m# remove kws that cannot be passed to Colorbar\u001b[39;00m\n\u001b[1;32m   1309\u001b[0m     \u001b[38;5;124m'\u001b[39m\u001b[38;5;124mfraction\u001b[39m\u001b[38;5;124m'\u001b[39m, \u001b[38;5;124m'\u001b[39m\u001b[38;5;124mpad\u001b[39m\u001b[38;5;124m'\u001b[39m, \u001b[38;5;124m'\u001b[39m\u001b[38;5;124mshrink\u001b[39m\u001b[38;5;124m'\u001b[39m, \u001b[38;5;124m'\u001b[39m\u001b[38;5;124maspect\u001b[39m\u001b[38;5;124m'\u001b[39m, \u001b[38;5;124m'\u001b[39m\u001b[38;5;124manchor\u001b[39m\u001b[38;5;124m'\u001b[39m, \u001b[38;5;124m'\u001b[39m\u001b[38;5;124mpanchor\u001b[39m\u001b[38;5;124m'\u001b[39m]\n\u001b[0;32m-> 1310\u001b[0m cb \u001b[38;5;241m=\u001b[39m \u001b[43mcbar\u001b[49m\u001b[38;5;241;43m.\u001b[39;49m\u001b[43mColorbar\u001b[49m\u001b[43m(\u001b[49m\u001b[43mcax\u001b[49m\u001b[43m,\u001b[49m\u001b[43m \u001b[49m\u001b[43mmappable\u001b[49m\u001b[43m,\u001b[49m\u001b[43m \u001b[49m\u001b[38;5;241;43m*\u001b[39;49m\u001b[38;5;241;43m*\u001b[39;49m\u001b[43m{\u001b[49m\n\u001b[1;32m   1311\u001b[0m \u001b[43m    \u001b[49m\u001b[43mk\u001b[49m\u001b[43m:\u001b[49m\u001b[43m \u001b[49m\u001b[43mv\u001b[49m\u001b[43m \u001b[49m\u001b[38;5;28;43;01mfor\u001b[39;49;00m\u001b[43m \u001b[49m\u001b[43mk\u001b[49m\u001b[43m,\u001b[49m\u001b[43m \u001b[49m\u001b[43mv\u001b[49m\u001b[43m \u001b[49m\u001b[38;5;129;43;01min\u001b[39;49;00m\u001b[43m \u001b[49m\u001b[43mkwargs\u001b[49m\u001b[38;5;241;43m.\u001b[39;49m\u001b[43mitems\u001b[49m\u001b[43m(\u001b[49m\u001b[43m)\u001b[49m\u001b[43m \u001b[49m\u001b[38;5;28;43;01mif\u001b[39;49;00m\u001b[43m \u001b[49m\u001b[43mk\u001b[49m\u001b[43m \u001b[49m\u001b[38;5;129;43;01mnot\u001b[39;49;00m\u001b[43m \u001b[49m\u001b[38;5;129;43;01min\u001b[39;49;00m\u001b[43m \u001b[49m\u001b[43mNON_COLORBAR_KEYS\u001b[49m\u001b[43m}\u001b[49m\u001b[43m)\u001b[49m\n\u001b[1;32m   1312\u001b[0m cax\u001b[38;5;241m.\u001b[39mfigure\u001b[38;5;241m.\u001b[39mstale \u001b[38;5;241m=\u001b[39m \u001b[38;5;28;01mTrue\u001b[39;00m\n\u001b[1;32m   1313\u001b[0m \u001b[38;5;28;01mreturn\u001b[39;00m cb\n",
      "File \u001b[0;32m~/.conda/envs/myEnv_v39/lib/python3.9/site-packages/matplotlib/colorbar.py:302\u001b[0m, in \u001b[0;36mColorbar.__init__\u001b[0;34m(self, ax, mappable, cmap, norm, alpha, values, boundaries, orientation, ticklocation, extend, spacing, ticks, format, drawedges, extendfrac, extendrect, label, location)\u001b[0m\n\u001b[1;32m    299\u001b[0m     mappable \u001b[38;5;241m=\u001b[39m cm\u001b[38;5;241m.\u001b[39mScalarMappable(norm\u001b[38;5;241m=\u001b[39mnorm, cmap\u001b[38;5;241m=\u001b[39mcmap)\n\u001b[1;32m    301\u001b[0m \u001b[38;5;28mself\u001b[39m\u001b[38;5;241m.\u001b[39mmappable \u001b[38;5;241m=\u001b[39m mappable\n\u001b[0;32m--> 302\u001b[0m cmap \u001b[38;5;241m=\u001b[39m \u001b[43mmappable\u001b[49m\u001b[38;5;241;43m.\u001b[39;49m\u001b[43mcmap\u001b[49m\n\u001b[1;32m    303\u001b[0m norm \u001b[38;5;241m=\u001b[39m mappable\u001b[38;5;241m.\u001b[39mnorm\n\u001b[1;32m    305\u001b[0m filled \u001b[38;5;241m=\u001b[39m \u001b[38;5;28;01mTrue\u001b[39;00m\n",
      "\u001b[0;31mAttributeError\u001b[0m: 'tuple' object has no attribute 'cmap'"
     ]
    },
    {
     "data": {
      "image/png": "[encoded data removed]",
      "text/plain": [
       "<Figure size 1600x400 with 5 Axes>"
      ]
     },
     "metadata": {},
     "output_type": "display_data"
    }
   ],
   "source": [
    "from matplotlib.colors import LogNorm\n",
    "fig, axs = plt.subplots(1,len(z_bins), figsize=(16,4))\n",
    "\n",
    "\n",
    "for i, z_bin in enumerate(z_bins):\n",
    "    z_min = z_bin[0]; z_max = z_bin[1]\n",
    "    mask = (merge_df.Z_LAMBDA >= z_min) & (merge_df.Z_LAMBDA < z_max)\n",
    "    cur_df = merge_df[mask]\n",
    "    pcm = axs[i].hist2d(cur_df.R/cur_df.R_LAMBDA, cur_df.P, bins=(50, 50), cmap=plt.cm.jet, norm=LogNorm())\n",
    "    axs[i].set_title(z_bin)\n",
    "    axs[i].set_ylabel('pmem')\n",
    "    axs[i].set_xlabel(r'$R/R_{\\lambda}$')\n",
    "\n",
    "cbar_ax = fig.add_axes([0.85, 0.15, 0.05, 0.7])\n",
    "fig.colorbar(pcm, cax=cbar_ax)\n",
    "plt.show()"
   ]
  },
  {
   "cell_type": "code",
   "execution_count": 93,
   "id": "f0bba8d2-14ce-4a97-8e3a-e8f023c73113",
   "metadata": {},
   "outputs": [
    {
     "data": {
      "image/png": "[encoded data removed]",
      "text/plain": [
       "<Figure size 800x600 with 5 Axes>"
      ]
     },
     "metadata": {},
     "output_type": "display_data"
    }
   ],
   "source": [
    "import matplotlib.pyplot as plt\n",
    "import numpy as np\n",
    "\n",
    "# Create a figure and a grid of subplots\n",
    "fig, axes = plt.subplots(nrows=2, ncols=2, figsize=(8, 6))\n",
    "\n",
    "data = np.random.rand(10, 10)\n",
    "for ax in axes.flat:\n",
    "    im = ax.imshow(data, cmap='viridis',norm=LogNorm())\n",
    "\n",
    "fig.subplots_adjust(right=0.8)\n",
    "cbar_ax = fig.add_axes([0.85, 0.15, 0.05, 0.7])\n",
    "fig.colorbar(im, cax=cbar_ax)\n",
    "\n",
    "plt.show()"
   ]
  },
  {
   "cell_type": "code",
   "execution_count": 14,
   "id": "89be9126-fa25-44a3-b466-f40b2f1408ac",
   "metadata": {},
   "outputs": [],
   "source": [
    "import pickle\n",
    "\n",
    "with open('RM_SDSS_df.pkl', 'wb') as handle:\n",
    "    pickle.dump(merge_df, handle, protocol=pickle.HIGHEST_PROTOCOL)"
   ]
  },
  {
   "cell_type": "code",
   "execution_count": null,
   "id": "31c810a4-ef01-4314-abe7-b2e06f498729",
   "metadata": {},
   "outputs": [],
   "source": []
  }
 ],
 "metadata": {
  "kernelspec": {
   "display_name": "myEnv_v39",
   "language": "python",
   "name": "myenv_v39"
  },
  "language_info": {
   "codemirror_mode": {
    "name": "ipython",
    "version": 3
   },
   "file_extension": ".py",
   "mimetype": "text/x-python",
   "name": "python",
   "nbconvert_exporter": "python",
   "pygments_lexer": "ipython3",
   "version": "3.9.18"
  }
 },
 "nbformat": 4,
 "nbformat_minor": 5
}
