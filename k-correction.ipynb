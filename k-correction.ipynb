{
 "cells": [
  {
   "cell_type": "markdown",
   "id": "6f842128-efa2-4108-99f4-ba59774be7db",
   "metadata": {},
   "source": [
    "## Import modules"
   ]
  },
  {
   "cell_type": "code",
   "execution_count": 1,
   "id": "1d28e77a-9e6e-471a-90bb-a5b622c7d06c",
   "metadata": {},
   "outputs": [
    {
     "ename": "ModuleNotFoundError",
     "evalue": "No module named 'tables'",
     "output_type": "error",
     "traceback": [
      "\u001b[0;31m---------------------------------------------------------------------------\u001b[0m",
      "\u001b[0;31mModuleNotFoundError\u001b[0m                       Traceback (most recent call last)",
      "Cell \u001b[0;32mIn[1], line 7\u001b[0m\n\u001b[1;32m      5\u001b[0m \u001b[38;5;28;01mimport\u001b[39;00m \u001b[38;5;21;01mpandas\u001b[39;00m \u001b[38;5;28;01mas\u001b[39;00m \u001b[38;5;21;01mpd\u001b[39;00m\n\u001b[1;32m      6\u001b[0m \u001b[38;5;28;01mimport\u001b[39;00m \u001b[38;5;21;01mnumpy\u001b[39;00m \u001b[38;5;28;01mas\u001b[39;00m \u001b[38;5;21;01mnp\u001b[39;00m\n\u001b[0;32m----> 7\u001b[0m \u001b[38;5;28;01mimport\u001b[39;00m \u001b[38;5;21;01mtables\u001b[39;00m\n\u001b[1;32m      8\u001b[0m \u001b[38;5;28;01mimport\u001b[39;00m \u001b[38;5;21;01mpickle\u001b[39;00m\n\u001b[1;32m      9\u001b[0m \u001b[38;5;28;01mimport\u001b[39;00m \u001b[38;5;21;01mos\u001b[39;00m\n",
      "\u001b[0;31mModuleNotFoundError\u001b[0m: No module named 'tables'"
     ]
    }
   ],
   "source": [
    "from scipy.stats import kde\n",
    "import h5py\n",
    "import astropy.io.fits as fits\n",
    "import csv\n",
    "import pandas as pd\n",
    "import numpy as np\n",
    "import tables\n",
    "import pickle\n",
    "import os\n",
    "from astropy.table import Table\n",
    "from astropy.coordinates import SkyCoord\n",
    "from tqdm import tqdm\n",
    "from astropy.io import ascii\n",
    "import os\n",
    "import pandas as pd\n",
    "import matplotlib as mpl\n",
    "import matplotlib.pyplot as plt\n",
    "import seaborn as sns\n",
    "import incredible as cr\n",
    "from scipy.special import erf\n",
    "from scipy import stats\n",
    "import scipy.optimize as opt\n",
    "from scipy import stats\n",
    "import scipy.optimize as opt\n",
    "import emcee\n",
    "import tqdm\n",
    "import pickle\n",
    "from astropy import table\n",
    "from astropy.table import Table, join, unique\n",
    "from specutils import SpectralRegion\n",
    "from scipy.interpolate import BSpline, make_interp_spline, UnivariateSpline"
   ]
  },
  {
   "cell_type": "code",
   "execution_count": null,
   "id": "5169efb8-3007-400d-a2c5-dcb545c7438a",
   "metadata": {},
   "outputs": [],
   "source": [
    "from astropy.cosmology import FlatLambdaCDM\n",
    "from scipy.interpolate import interp1d\n",
    "import numpy as np\n",
    "import astropy.units as u\n",
    "import astropy.cosmology.units as cu\n",
    "from astropy.cosmology import Planck18\n",
    "from astropy.cosmology import z_at_value\n",
    "cosmo = Planck18\n",
    "\n",
    "## Functions for computing spectroscopic richness and profiles\n",
    "from projection_functions import *"
   ]
  },
  {
   "cell_type": "code",
   "execution_count": null,
   "id": "04233715-1ad2-4cef-a964-abe712cc4ee6",
   "metadata": {},
   "outputs": [],
   "source": [
    "import matplotlib.patches as patches\n",
    "import matplotlib.patheffects as path_effects\n",
    "import matplotlib.pyplot as plt\n",
    "\n",
    "\n",
    "plot_params = {\n",
    "\n",
    "'axes.linewidth': 1.25,\n",
    "'xtick.major.width': 1, 'ytick.major.width': 1,\n",
    "'xtick.minor.width': 1, 'ytick.minor.width': 1,\n",
    "'xtick.major.size': 12, 'ytick.major.size': 12,\n",
    "'xtick.labelsize': 12, 'ytick.labelsize': 12,\n",
    "'xtick.direction': 'in', 'ytick.direction': 'in',\n",
    "'xtick.major.pad': 6, 'xtick.minor.pad': 6,\n",
    "'figure.constrained_layout.use': True,\n",
    "#'text.usetex': True,\n",
    "'font.family': 'Serif',\n",
    "'font.size': 14,\n",
    "'legend.fontsize': 11\n",
    "    \n",
    "}\n",
    "plt.rcParams.update(plot_params)"
   ]
  },
  {
   "cell_type": "markdown",
   "id": "aa84a2a3-f96a-474d-9c4d-5fedd34527f7",
   "metadata": {},
   "source": [
    "## K-correction algorithm from fastspecfit"
   ]
  },
  {
   "cell_type": "code",
   "execution_count": 2,
   "id": "c4c765cc-9d57-4a1a-b9f6-deb39d81d2cb",
   "metadata": {},
   "outputs": [],
   "source": [
    "from desispec.io import findfile\n",
    "from speclite import filters as specfilters"
   ]
  },
  {
   "cell_type": "code",
   "execution_count": 3,
   "id": "4119ffc2-6e45-4e4b-8a2d-4243577a9b3d",
   "metadata": {},
   "outputs": [
    {
     "ename": "ImportError",
     "evalue": "cannot import name 'build_stellar_continuum' from 'fastspecfit.continuum' (/global/common/software/desi/perlmutter/desiconda/20240425-2.2.0/code/fastspecfit/main/py/fastspecfit/continuum.py)",
     "output_type": "error",
     "traceback": [
      "\u001b[0;31m---------------------------------------------------------------------------\u001b[0m",
      "\u001b[0;31mImportError\u001b[0m                               Traceback (most recent call last)",
      "Cell \u001b[0;32mIn[3], line 3\u001b[0m\n\u001b[1;32m      1\u001b[0m \u001b[38;5;28;01mfrom\u001b[39;00m \u001b[38;5;21;01mfastspecfit\u001b[39;00m\u001b[38;5;21;01m.\u001b[39;00m\u001b[38;5;21;01mqa\u001b[39;00m \u001b[38;5;28;01mimport\u001b[39;00m fastqa\n\u001b[1;32m      2\u001b[0m \u001b[38;5;28;01mfrom\u001b[39;00m \u001b[38;5;21;01mfastspecfit\u001b[39;00m\u001b[38;5;21;01m.\u001b[39;00m\u001b[38;5;21;01mfastspecfit\u001b[39;00m \u001b[38;5;28;01mimport\u001b[39;00m fastspec\n\u001b[0;32m----> 3\u001b[0m \u001b[38;5;28;01mfrom\u001b[39;00m \u001b[38;5;21;01mfastspecfit\u001b[39;00m\u001b[38;5;21;01m.\u001b[39;00m\u001b[38;5;21;01mcontinuum\u001b[39;00m \u001b[38;5;28;01mimport\u001b[39;00m build_stellar_continuum\n\u001b[1;32m      4\u001b[0m \u001b[38;5;28;01mfrom\u001b[39;00m \u001b[38;5;21;01mfastspecfit\u001b[39;00m\u001b[38;5;21;01m.\u001b[39;00m\u001b[38;5;21;01mutil\u001b[39;00m \u001b[38;5;28;01mimport\u001b[39;00m C_LIGHT, FLUXNORM\n\u001b[1;32m      5\u001b[0m \u001b[38;5;28;01mfrom\u001b[39;00m \u001b[38;5;21;01mfastspecfit\u001b[39;00m\u001b[38;5;21;01m.\u001b[39;00m\u001b[38;5;21;01mio\u001b[39;00m \u001b[38;5;28;01mimport\u001b[39;00m read_fastspecfit\n",
      "\u001b[0;31mImportError\u001b[0m: cannot import name 'build_stellar_continuum' from 'fastspecfit.continuum' (/global/common/software/desi/perlmutter/desiconda/20240425-2.2.0/code/fastspecfit/main/py/fastspecfit/continuum.py)"
     ]
    }
   ],
   "source": [
    "from fastspecfit.qa import fastqa\n",
    "from fastspecfit.fastspecfit import fastspec\n",
    "from fastspecfit.continuum import build_stellar_continuum\n",
    "from fastspecfit.util import C_LIGHT, FLUXNORM\n",
    "from fastspecfit.io import read_fastspecfit\n",
    "from fastspecfit._version import __version__\n",
    "print(__version__)"
   ]
  },
  {
   "cell_type": "code",
   "execution_count": null,
   "id": "13bbcd97-a99a-43d4-baaa-326c6542810f",
   "metadata": {},
   "outputs": [],
   "source": []
  }
 ],
 "metadata": {
  "kernelspec": {
   "display_name": "FastSpecFit Main",
   "language": "python",
   "name": "fastspecfit-main"
  },
  "language_info": {
   "codemirror_mode": {
    "name": "ipython",
    "version": 3
   },
   "file_extension": ".py",
   "mimetype": "text/x-python",
   "name": "python",
   "nbconvert_exporter": "python",
   "pygments_lexer": "ipython3",
   "version": "3.10.14"
  }
 },
 "nbformat": 4,
 "nbformat_minor": 5
}
